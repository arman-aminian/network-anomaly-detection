{
  "nbformat": 4,
  "nbformat_minor": 0,
  "metadata": {
    "colab": {
      "name": "RC-Project.ipynb",
      "provenance": [],
      "collapsed_sections": [
        "Nvy9zukKviqg",
        "daEJRwzUvWt4"
      ]
    },
    "kernelspec": {
      "name": "python3",
      "display_name": "Python 3"
    },
    "language_info": {
      "name": "python"
    }
  },
  "cells": [
    {
      "cell_type": "code",
      "metadata": {
        "colab": {
          "base_uri": "https://localhost:8080/"
        },
        "id": "L4gAHaqkcCnt",
        "outputId": "14e8a25f-b46c-482f-b9a1-583f35b8aa00"
      },
      "source": [
        "cd Documents/Uni/Rahnema\\ College/Project"
      ],
      "execution_count": null,
      "outputs": [
        {
          "output_type": "stream",
          "text": [
            "/Users/arman/Documents/Uni/Rahnema College/Project\n"
          ],
          "name": "stdout"
        }
      ]
    },
    {
      "cell_type": "code",
      "metadata": {
        "colab": {
          "base_uri": "https://localhost:8080/"
        },
        "id": "icGe2IQjcWP-",
        "outputId": "67f7b6b7-5915-4957-eea0-d7e4ee6490dc"
      },
      "source": [
        "ls"
      ],
      "execution_count": null,
      "outputs": [
        {
          "output_type": "stream",
          "text": [
            "clean_data.py            result.json              رهنما کالج.pdf\r\n"
          ],
          "name": "stdout"
        }
      ]
    },
    {
      "cell_type": "markdown",
      "metadata": {
        "id": "Nvy9zukKviqg"
      },
      "source": [
        "# Packages"
      ]
    },
    {
      "cell_type": "code",
      "metadata": {
        "id": "B-P82aDwsqk8"
      },
      "source": [
        "import numpy as np\n",
        "import pandas as pd\n",
        "import matplotlib.pyplot as plt\n",
        "%matplotlib inline\n",
        "import seaborn as sns"
      ],
      "execution_count": null,
      "outputs": []
    },
    {
      "cell_type": "markdown",
      "metadata": {
        "id": "_TgVolOjvGhZ"
      },
      "source": [
        "# Dataset"
      ]
    },
    {
      "cell_type": "code",
      "metadata": {
        "id": "nIJyNCgecW-6"
      },
      "source": [
        "df = pd.read_json('result.json')"
      ],
      "execution_count": null,
      "outputs": []
    },
    {
      "cell_type": "markdown",
      "metadata": {
        "id": "daEJRwzUvWt4"
      },
      "source": [
        "### Preview data"
      ]
    },
    {
      "cell_type": "code",
      "metadata": {
        "colab": {
          "base_uri": "https://localhost:8080/",
          "height": 204
        },
        "id": "T_B3cxSIcayc",
        "outputId": "cd665b26-2091-481e-f971-9b73fa25d265"
      },
      "source": [
        "df.head()"
      ],
      "execution_count": null,
      "outputs": [
        {
          "output_type": "execute_result",
          "data": {
            "text/plain": [
              "                   datetime  \\\n",
              "0 2021-05-12 05:06:00+04:30   \n",
              "1 2021-05-12 05:06:00+04:30   \n",
              "2 2021-05-12 05:06:00+04:30   \n",
              "3 2021-05-12 05:06:00+04:30   \n",
              "4 2021-05-12 05:06:00+04:30   \n",
              "\n",
              "                                     http_user_agent               ip  \\\n",
              "0                              [Googlebot-Image/1.0]  207.213.193.143   \n",
              "1                              [Googlebot-Image/1.0]  207.213.193.143   \n",
              "2  [[Linux, Android 6.0.1, SAMSUNG SM-J710GN Buil...   35.110.222.153   \n",
              "3  [[Linux, Android 6.0, CAM-L21], [KHTML, like G...    35.108.208.99   \n",
              "4  [[Linux, Android 6.0.1, SAMSUNG SM-J710GN Buil...   35.110.222.153   \n",
              "\n",
              "   status_code  request_length request_time http_method  \\\n",
              "0          304               0           32         Get   \n",
              "1          304               0            4         Get   \n",
              "2          200           52567           32         Get   \n",
              "3          200           23531           20         Get   \n",
              "4          200            4680            8         Get   \n",
              "\n",
              "                                url  \n",
              "0          /cdn/profiles/1026106239  \n",
              "1                  images/badge.png  \n",
              "2                  /pages/630180847  \n",
              "3              images/fav_icon2.ico  \n",
              "4  images/sanjagh_logo_purpule5.png  "
            ],
            "text/html": [
              "<div>\n",
              "<style scoped>\n",
              "    .dataframe tbody tr th:only-of-type {\n",
              "        vertical-align: middle;\n",
              "    }\n",
              "\n",
              "    .dataframe tbody tr th {\n",
              "        vertical-align: top;\n",
              "    }\n",
              "\n",
              "    .dataframe thead th {\n",
              "        text-align: right;\n",
              "    }\n",
              "</style>\n",
              "<table border=\"1\" class=\"dataframe\">\n",
              "  <thead>\n",
              "    <tr style=\"text-align: right;\">\n",
              "      <th></th>\n",
              "      <th>datetime</th>\n",
              "      <th>http_user_agent</th>\n",
              "      <th>ip</th>\n",
              "      <th>status_code</th>\n",
              "      <th>request_length</th>\n",
              "      <th>request_time</th>\n",
              "      <th>http_method</th>\n",
              "      <th>url</th>\n",
              "    </tr>\n",
              "  </thead>\n",
              "  <tbody>\n",
              "    <tr>\n",
              "      <th>0</th>\n",
              "      <td>2021-05-12 05:06:00+04:30</td>\n",
              "      <td>[Googlebot-Image/1.0]</td>\n",
              "      <td>207.213.193.143</td>\n",
              "      <td>304</td>\n",
              "      <td>0</td>\n",
              "      <td>32</td>\n",
              "      <td>Get</td>\n",
              "      <td>/cdn/profiles/1026106239</td>\n",
              "    </tr>\n",
              "    <tr>\n",
              "      <th>1</th>\n",
              "      <td>2021-05-12 05:06:00+04:30</td>\n",
              "      <td>[Googlebot-Image/1.0]</td>\n",
              "      <td>207.213.193.143</td>\n",
              "      <td>304</td>\n",
              "      <td>0</td>\n",
              "      <td>4</td>\n",
              "      <td>Get</td>\n",
              "      <td>images/badge.png</td>\n",
              "    </tr>\n",
              "    <tr>\n",
              "      <th>2</th>\n",
              "      <td>2021-05-12 05:06:00+04:30</td>\n",
              "      <td>[[Linux, Android 6.0.1, SAMSUNG SM-J710GN Buil...</td>\n",
              "      <td>35.110.222.153</td>\n",
              "      <td>200</td>\n",
              "      <td>52567</td>\n",
              "      <td>32</td>\n",
              "      <td>Get</td>\n",
              "      <td>/pages/630180847</td>\n",
              "    </tr>\n",
              "    <tr>\n",
              "      <th>3</th>\n",
              "      <td>2021-05-12 05:06:00+04:30</td>\n",
              "      <td>[[Linux, Android 6.0, CAM-L21], [KHTML, like G...</td>\n",
              "      <td>35.108.208.99</td>\n",
              "      <td>200</td>\n",
              "      <td>23531</td>\n",
              "      <td>20</td>\n",
              "      <td>Get</td>\n",
              "      <td>images/fav_icon2.ico</td>\n",
              "    </tr>\n",
              "    <tr>\n",
              "      <th>4</th>\n",
              "      <td>2021-05-12 05:06:00+04:30</td>\n",
              "      <td>[[Linux, Android 6.0.1, SAMSUNG SM-J710GN Buil...</td>\n",
              "      <td>35.110.222.153</td>\n",
              "      <td>200</td>\n",
              "      <td>4680</td>\n",
              "      <td>8</td>\n",
              "      <td>Get</td>\n",
              "      <td>images/sanjagh_logo_purpule5.png</td>\n",
              "    </tr>\n",
              "  </tbody>\n",
              "</table>\n",
              "</div>"
            ]
          },
          "metadata": {
            "tags": []
          },
          "execution_count": 8
        }
      ]
    },
    {
      "cell_type": "code",
      "metadata": {
        "colab": {
          "base_uri": "https://localhost:8080/",
          "height": 297
        },
        "id": "g8I-di7Tcleu",
        "outputId": "33b224fd-09e6-4908-fc20-127e9b702fc2"
      },
      "source": [
        "df.describe()"
      ],
      "execution_count": null,
      "outputs": [
        {
          "output_type": "execute_result",
          "data": {
            "text/plain": [
              "        status_code  request_length\n",
              "count  1.260035e+06    1.260035e+06\n",
              "mean   2.313682e+02    4.580962e+04\n",
              "std    5.804793e+01    3.350437e+05\n",
              "min    1.010000e+02    0.000000e+00\n",
              "25%    2.000000e+02    0.000000e+00\n",
              "50%    2.000000e+02    1.201000e+03\n",
              "75%    3.040000e+02    2.650500e+04\n",
              "max    5.030000e+02    1.022335e+08"
            ],
            "text/html": [
              "<div>\n",
              "<style scoped>\n",
              "    .dataframe tbody tr th:only-of-type {\n",
              "        vertical-align: middle;\n",
              "    }\n",
              "\n",
              "    .dataframe tbody tr th {\n",
              "        vertical-align: top;\n",
              "    }\n",
              "\n",
              "    .dataframe thead th {\n",
              "        text-align: right;\n",
              "    }\n",
              "</style>\n",
              "<table border=\"1\" class=\"dataframe\">\n",
              "  <thead>\n",
              "    <tr style=\"text-align: right;\">\n",
              "      <th></th>\n",
              "      <th>status_code</th>\n",
              "      <th>request_length</th>\n",
              "    </tr>\n",
              "  </thead>\n",
              "  <tbody>\n",
              "    <tr>\n",
              "      <th>count</th>\n",
              "      <td>1.260035e+06</td>\n",
              "      <td>1.260035e+06</td>\n",
              "    </tr>\n",
              "    <tr>\n",
              "      <th>mean</th>\n",
              "      <td>2.313682e+02</td>\n",
              "      <td>4.580962e+04</td>\n",
              "    </tr>\n",
              "    <tr>\n",
              "      <th>std</th>\n",
              "      <td>5.804793e+01</td>\n",
              "      <td>3.350437e+05</td>\n",
              "    </tr>\n",
              "    <tr>\n",
              "      <th>min</th>\n",
              "      <td>1.010000e+02</td>\n",
              "      <td>0.000000e+00</td>\n",
              "    </tr>\n",
              "    <tr>\n",
              "      <th>25%</th>\n",
              "      <td>2.000000e+02</td>\n",
              "      <td>0.000000e+00</td>\n",
              "    </tr>\n",
              "    <tr>\n",
              "      <th>50%</th>\n",
              "      <td>2.000000e+02</td>\n",
              "      <td>1.201000e+03</td>\n",
              "    </tr>\n",
              "    <tr>\n",
              "      <th>75%</th>\n",
              "      <td>3.040000e+02</td>\n",
              "      <td>2.650500e+04</td>\n",
              "    </tr>\n",
              "    <tr>\n",
              "      <th>max</th>\n",
              "      <td>5.030000e+02</td>\n",
              "      <td>1.022335e+08</td>\n",
              "    </tr>\n",
              "  </tbody>\n",
              "</table>\n",
              "</div>"
            ]
          },
          "metadata": {
            "tags": []
          },
          "execution_count": 10
        }
      ]
    },
    {
      "cell_type": "code",
      "metadata": {
        "colab": {
          "base_uri": "https://localhost:8080/"
        },
        "id": "3ZaqoWDCsAM9",
        "outputId": "a3a9d159-e40a-4049-c298-eb065909d6f3"
      },
      "source": [
        "df.info()"
      ],
      "execution_count": null,
      "outputs": [
        {
          "output_type": "stream",
          "text": [
            "<class 'pandas.core.frame.DataFrame'>\n",
            "RangeIndex: 1260035 entries, 0 to 1260034\n",
            "Data columns (total 8 columns):\n",
            " #   Column           Non-Null Count    Dtype                                \n",
            "---  ------           --------------    -----                                \n",
            " 0   datetime         1260035 non-null  datetime64[ns, pytz.FixedOffset(270)]\n",
            " 1   http_user_agent  1260035 non-null  object                               \n",
            " 2   ip               1260035 non-null  object                               \n",
            " 3   status_code      1260035 non-null  int64                                \n",
            " 4   request_length   1260035 non-null  int64                                \n",
            " 5   request_time     1260035 non-null  object                               \n",
            " 6   http_method      1260035 non-null  object                               \n",
            " 7   url              1260035 non-null  object                               \n",
            "dtypes: datetime64[ns, pytz.FixedOffset(270)](1), int64(2), object(5)\n",
            "memory usage: 76.9+ MB\n"
          ],
          "name": "stdout"
        }
      ]
    },
    {
      "cell_type": "code",
      "metadata": {
        "id": "KRZxqMiNtqLw"
      },
      "source": [
        ""
      ],
      "execution_count": null,
      "outputs": []
    },
    {
      "cell_type": "markdown",
      "metadata": {
        "id": "GCvSuf8j3aCC"
      },
      "source": [
        "# Visualize"
      ]
    },
    {
      "cell_type": "code",
      "metadata": {
        "colab": {
          "base_uri": "https://localhost:8080/",
          "height": 204
        },
        "id": "FFZkMahSPEuG",
        "outputId": "f1887275-c64a-480f-f0d8-0e7bb6e5d128"
      },
      "source": [
        "df.head()"
      ],
      "execution_count": null,
      "outputs": [
        {
          "output_type": "execute_result",
          "data": {
            "text/plain": [
              "                   datetime  \\\n",
              "0 2021-05-12 05:06:00+04:30   \n",
              "1 2021-05-12 05:06:00+04:30   \n",
              "2 2021-05-12 05:06:00+04:30   \n",
              "3 2021-05-12 05:06:00+04:30   \n",
              "4 2021-05-12 05:06:00+04:30   \n",
              "\n",
              "                                     http_user_agent               ip  \\\n",
              "0                              [Googlebot-Image/1.0]  207.213.193.143   \n",
              "1                              [Googlebot-Image/1.0]  207.213.193.143   \n",
              "2  [[Linux, Android 6.0.1, SAMSUNG SM-J710GN Buil...   35.110.222.153   \n",
              "3  [[Linux, Android 6.0, CAM-L21], [KHTML, like G...    35.108.208.99   \n",
              "4  [[Linux, Android 6.0.1, SAMSUNG SM-J710GN Buil...   35.110.222.153   \n",
              "\n",
              "   status_code  request_length  request_time http_method  \\\n",
              "0          304               0            32         Get   \n",
              "1          304               0             4         Get   \n",
              "2          200           52567            32         Get   \n",
              "3          200           23531            20         Get   \n",
              "4          200            4680             8         Get   \n",
              "\n",
              "                                url  \n",
              "0          /cdn/profiles/1026106239  \n",
              "1                  images/badge.png  \n",
              "2                  /pages/630180847  \n",
              "3              images/fav_icon2.ico  \n",
              "4  images/sanjagh_logo_purpule5.png  "
            ],
            "text/html": [
              "<div>\n",
              "<style scoped>\n",
              "    .dataframe tbody tr th:only-of-type {\n",
              "        vertical-align: middle;\n",
              "    }\n",
              "\n",
              "    .dataframe tbody tr th {\n",
              "        vertical-align: top;\n",
              "    }\n",
              "\n",
              "    .dataframe thead th {\n",
              "        text-align: right;\n",
              "    }\n",
              "</style>\n",
              "<table border=\"1\" class=\"dataframe\">\n",
              "  <thead>\n",
              "    <tr style=\"text-align: right;\">\n",
              "      <th></th>\n",
              "      <th>datetime</th>\n",
              "      <th>http_user_agent</th>\n",
              "      <th>ip</th>\n",
              "      <th>status_code</th>\n",
              "      <th>request_length</th>\n",
              "      <th>request_time</th>\n",
              "      <th>http_method</th>\n",
              "      <th>url</th>\n",
              "    </tr>\n",
              "  </thead>\n",
              "  <tbody>\n",
              "    <tr>\n",
              "      <th>0</th>\n",
              "      <td>2021-05-12 05:06:00+04:30</td>\n",
              "      <td>[Googlebot-Image/1.0]</td>\n",
              "      <td>207.213.193.143</td>\n",
              "      <td>304</td>\n",
              "      <td>0</td>\n",
              "      <td>32</td>\n",
              "      <td>Get</td>\n",
              "      <td>/cdn/profiles/1026106239</td>\n",
              "    </tr>\n",
              "    <tr>\n",
              "      <th>1</th>\n",
              "      <td>2021-05-12 05:06:00+04:30</td>\n",
              "      <td>[Googlebot-Image/1.0]</td>\n",
              "      <td>207.213.193.143</td>\n",
              "      <td>304</td>\n",
              "      <td>0</td>\n",
              "      <td>4</td>\n",
              "      <td>Get</td>\n",
              "      <td>images/badge.png</td>\n",
              "    </tr>\n",
              "    <tr>\n",
              "      <th>2</th>\n",
              "      <td>2021-05-12 05:06:00+04:30</td>\n",
              "      <td>[[Linux, Android 6.0.1, SAMSUNG SM-J710GN Buil...</td>\n",
              "      <td>35.110.222.153</td>\n",
              "      <td>200</td>\n",
              "      <td>52567</td>\n",
              "      <td>32</td>\n",
              "      <td>Get</td>\n",
              "      <td>/pages/630180847</td>\n",
              "    </tr>\n",
              "    <tr>\n",
              "      <th>3</th>\n",
              "      <td>2021-05-12 05:06:00+04:30</td>\n",
              "      <td>[[Linux, Android 6.0, CAM-L21], [KHTML, like G...</td>\n",
              "      <td>35.108.208.99</td>\n",
              "      <td>200</td>\n",
              "      <td>23531</td>\n",
              "      <td>20</td>\n",
              "      <td>Get</td>\n",
              "      <td>images/fav_icon2.ico</td>\n",
              "    </tr>\n",
              "    <tr>\n",
              "      <th>4</th>\n",
              "      <td>2021-05-12 05:06:00+04:30</td>\n",
              "      <td>[[Linux, Android 6.0.1, SAMSUNG SM-J710GN Buil...</td>\n",
              "      <td>35.110.222.153</td>\n",
              "      <td>200</td>\n",
              "      <td>4680</td>\n",
              "      <td>8</td>\n",
              "      <td>Get</td>\n",
              "      <td>images/sanjagh_logo_purpule5.png</td>\n",
              "    </tr>\n",
              "  </tbody>\n",
              "</table>\n",
              "</div>"
            ]
          },
          "metadata": {
            "tags": []
          },
          "execution_count": 95
        }
      ]
    },
    {
      "cell_type": "markdown",
      "metadata": {
        "id": "zeIn27TxfUig"
      },
      "source": [
        "### Request Lenght"
      ]
    },
    {
      "cell_type": "code",
      "metadata": {
        "colab": {
          "base_uri": "https://localhost:8080/"
        },
        "id": "6qVslzyTPSAr",
        "outputId": "a1ac99d4-5255-4fa5-f23d-8c4b38edf859"
      },
      "source": [
        "df.request_length.describe()"
      ],
      "execution_count": null,
      "outputs": [
        {
          "output_type": "execute_result",
          "data": {
            "text/plain": [
              "count    1.240227e+06\n",
              "mean     4.648727e+04\n",
              "std      3.376622e+05\n",
              "min      0.000000e+00\n",
              "25%      0.000000e+00\n",
              "50%      1.201000e+03\n",
              "75%      2.741100e+04\n",
              "max      1.022335e+08\n",
              "Name: request_length, dtype: float64"
            ]
          },
          "metadata": {
            "tags": []
          },
          "execution_count": 125
        }
      ]
    },
    {
      "cell_type": "code",
      "metadata": {
        "colab": {
          "base_uri": "https://localhost:8080/",
          "height": 623
        },
        "id": "yUORxg4HbgfO",
        "outputId": "fea145b1-dfa5-4725-f1c3-4fdfeac042b2"
      },
      "source": [
        "f, axes = plt.subplots(2, figsize=(15,10))\n",
        "x = sns.boxplot(x=df.request_length, ax=axes[0])\n",
        "limited_x = sns.boxplot(x=df.request_length[df.request_length < 200000], ax=axes[1])\n",
        "x.set(xlabel='Request Lenght')\n",
        "limited_x.set(xlabel='Request Lenght < 200000')"
      ],
      "execution_count": null,
      "outputs": [
        {
          "output_type": "execute_result",
          "data": {
            "text/plain": [
              "[Text(0.5, 0, 'Request Lenght < 200000')]"
            ]
          },
          "metadata": {
            "tags": []
          },
          "execution_count": 163
        },
        {
          "output_type": "display_data",
          "data": {
            "text/plain": [
              "<Figure size 1080x720 with 2 Axes>"
            ],
            "image/png": "[encoded data removed]"
          },
          "metadata": {
            "tags": [],
            "needs_background": "light"
          }
        }
      ]
    },
    {
      "cell_type": "markdown",
      "metadata": {
        "id": "wWwBS15HNnO6"
      },
      "source": [
        "### Request time"
      ]
    },
    {
      "cell_type": "code",
      "metadata": {
        "colab": {
          "base_uri": "https://localhost:8080/"
        },
        "id": "a7oFf7ajNVLM",
        "outputId": "1e777ba1-155e-408c-d84a-d7710282bdfe"
      },
      "source": [
        "df.request_time.describe()"
      ],
      "execution_count": null,
      "outputs": [
        {
          "output_type": "execute_result",
          "data": {
            "text/plain": [
              "count    1.240227e+06\n",
              "mean     6.819186e+03\n",
              "std      1.845683e+05\n",
              "min      0.000000e+00\n",
              "25%      4.000000e+00\n",
              "50%      1.200000e+01\n",
              "75%      2.400000e+01\n",
              "max      1.750470e+08\n",
              "Name: request_time, dtype: float64"
            ]
          },
          "metadata": {
            "tags": []
          },
          "execution_count": 93
        }
      ]
    },
    {
      "cell_type": "code",
      "metadata": {
        "colab": {
          "base_uri": "https://localhost:8080/",
          "height": 928
        },
        "id": "W4iVk8Gb29nY",
        "outputId": "23fee294-5f93-4b3b-9f7f-0553c9fe8fa5"
      },
      "source": [
        "f, axes = plt.subplots(3, figsize=(15,15))\n",
        "x = sns.boxplot(x=df.request_time, ax=axes[0])\n",
        "log_x = sns.boxplot(x=np.log(df.request_time), ax=axes[1])\n",
        "limited_x = sns.boxplot(x=df.request_time[df.request_time < 45], ax=axes[2])\n",
        "x.set(xlabel='Request Time')\n",
        "log_x.set(xlabel='log(Request Time)')\n",
        "limited_x.set(xlabel='Request Time < 45')"
      ],
      "execution_count": null,
      "outputs": [
        {
          "output_type": "stream",
          "text": [
            "/usr/local/lib/python3.9/site-packages/pandas/core/arraylike.py:358: RuntimeWarning: divide by zero encountered in log\n",
            "  result = getattr(ufunc, method)(*inputs, **kwargs)\n"
          ],
          "name": "stderr"
        },
        {
          "output_type": "execute_result",
          "data": {
            "text/plain": [
              "[Text(0.5, 0, 'Request Time < 45')]"
            ]
          },
          "metadata": {
            "tags": []
          },
          "execution_count": 91
        },
        {
          "output_type": "display_data",
          "data": {
            "text/plain": [
              "<Figure size 1080x1080 with 3 Axes>"
            ],
            "image/png": "[encoded data removed]"
          },
          "metadata": {
            "tags": [],
            "needs_background": "light"
          }
        }
      ]
    },
    {
      "cell_type": "markdown",
      "metadata": {
        "id": "3i6fypk9SAa5"
      },
      "source": [
        "### Http Method"
      ]
    },
    {
      "cell_type": "code",
      "metadata": {
        "id": "ZPYKNxKbiSbb"
      },
      "source": [
        "method_count = df.http_method.value_counts()"
      ],
      "execution_count": null,
      "outputs": []
    },
    {
      "cell_type": "code",
      "metadata": {
        "colab": {
          "base_uri": "https://localhost:8080/"
        },
        "id": "g5sOK6CzkLuH",
        "outputId": "508c56a4-39b1-4d9b-bbeb-59b0c3d4bafb"
      },
      "source": [
        "method_count.values"
      ],
      "execution_count": null,
      "outputs": [
        {
          "output_type": "execute_result",
          "data": {
            "text/plain": [
              "array([1122012,   65447,   32436,   20195,     137])"
            ]
          },
          "metadata": {
            "tags": []
          },
          "execution_count": 153
        }
      ]
    },
    {
      "cell_type": "code",
      "metadata": {
        "colab": {
          "base_uri": "https://localhost:8080/",
          "height": 468
        },
        "id": "pmtjNbIcff_H",
        "outputId": "415c0de0-adcd-4a21-8b9d-6d5af1def58a"
      },
      "source": [
        "fig, axs = plt.subplots(1,2,figsize=(16,8))\n",
        "axs[0].pie(df.http_method.value_counts().values, \n",
        "          labels=df.http_method.value_counts().index.values)\n",
        "axs[1].pie(df.http_method[df.http_method != 'Get'].value_counts().values, \n",
        "          labels=df.http_method[df.http_method != 'Get'].value_counts().index.values)\n",
        "axs[0].set(xlabel='Http Method Pie Plot')\n",
        "axs[1].set(xlabel='Http Method Pir Plot without \"Get\"')"
      ],
      "execution_count": null,
      "outputs": [
        {
          "output_type": "execute_result",
          "data": {
            "text/plain": [
              "[Text(0.5, 0, 'Http Method Pir Plot without \"Get\"')]"
            ]
          },
          "metadata": {
            "tags": []
          },
          "execution_count": 162
        },
        {
          "output_type": "display_data",
          "data": {
            "text/plain": [
              "<Figure size 1152x576 with 2 Axes>"
            ],
            "image/png": "[encoded data removed]"
          },
          "metadata": {
            "tags": []
          }
        }
      ]
    },
    {
      "cell_type": "code",
      "metadata": {
        "colab": {
          "base_uri": "https://localhost:8080/",
          "height": 362
        },
        "id": "IXSG0z_bPj58",
        "outputId": "c2e9adcb-354c-4b27-fbef-be82988a57f0"
      },
      "source": [
        "fig, axs = plt.subplots(1,3,figsize=(18,5))\n",
        "axs[0].hist(df.http_method)\n",
        "axs[1].hist(df.http_method, log=True)\n",
        "axs[2].hist(df.http_method[df.http_method != 'Get'])\n",
        "axs[0].set(xlabel='Http Method Histogram')\n",
        "axs[1].set(xlabel='log(Http Method Histogram)')\n",
        "axs[2].set(xlabel='Http Method Histogram without \"Get\"')"
      ],
      "execution_count": null,
      "outputs": [
        {
          "output_type": "execute_result",
          "data": {
            "text/plain": [
              "[Text(0.5, 0, 'Http Method Histogram without \"Get\"')]"
            ]
          },
          "metadata": {
            "tags": []
          },
          "execution_count": 117
        },
        {
          "output_type": "display_data",
          "data": {
            "text/plain": [
              "<Figure size 1296x360 with 3 Axes>"
            ],
            "image/png": "[encoded data removed]"
          },
          "metadata": {
            "tags": [],
            "needs_background": "light"
          }
        }
      ]
    },
    {
      "cell_type": "markdown",
      "metadata": {
        "id": "CNAwQavZvoPe"
      },
      "source": [
        "# Preprocess"
      ]
    },
    {
      "cell_type": "code",
      "metadata": {
        "colab": {
          "base_uri": "https://localhost:8080/",
          "height": 204
        },
        "id": "DXjTkRkavwdv",
        "outputId": "f6dffe48-13b9-415f-b3c9-00318d34c376"
      },
      "source": [
        "df.head()"
      ],
      "execution_count": null,
      "outputs": [
        {
          "output_type": "execute_result",
          "data": {
            "text/plain": [
              "                   datetime  \\\n",
              "0 2021-05-12 05:06:00+04:30   \n",
              "1 2021-05-12 05:06:00+04:30   \n",
              "2 2021-05-12 05:06:00+04:30   \n",
              "3 2021-05-12 05:06:00+04:30   \n",
              "4 2021-05-12 05:06:00+04:30   \n",
              "\n",
              "                                     http_user_agent               ip  \\\n",
              "0                              [Googlebot-Image/1.0]  207.213.193.143   \n",
              "1                              [Googlebot-Image/1.0]  207.213.193.143   \n",
              "2  [[Linux, Android 6.0.1, SAMSUNG SM-J710GN Buil...   35.110.222.153   \n",
              "3  [[Linux, Android 6.0, CAM-L21], [KHTML, like G...    35.108.208.99   \n",
              "4  [[Linux, Android 6.0.1, SAMSUNG SM-J710GN Buil...   35.110.222.153   \n",
              "\n",
              "   status_code  request_length request_time http_method  \\\n",
              "0          304               0           32         Get   \n",
              "1          304               0            4         Get   \n",
              "2          200           52567           32         Get   \n",
              "3          200           23531           20         Get   \n",
              "4          200            4680            8         Get   \n",
              "\n",
              "                                url  \n",
              "0          /cdn/profiles/1026106239  \n",
              "1                  images/badge.png  \n",
              "2                  /pages/630180847  \n",
              "3              images/fav_icon2.ico  \n",
              "4  images/sanjagh_logo_purpule5.png  "
            ],
            "text/html": [
              "<div>\n",
              "<style scoped>\n",
              "    .dataframe tbody tr th:only-of-type {\n",
              "        vertical-align: middle;\n",
              "    }\n",
              "\n",
              "    .dataframe tbody tr th {\n",
              "        vertical-align: top;\n",
              "    }\n",
              "\n",
              "    .dataframe thead th {\n",
              "        text-align: right;\n",
              "    }\n",
              "</style>\n",
              "<table border=\"1\" class=\"dataframe\">\n",
              "  <thead>\n",
              "    <tr style=\"text-align: right;\">\n",
              "      <th></th>\n",
              "      <th>datetime</th>\n",
              "      <th>http_user_agent</th>\n",
              "      <th>ip</th>\n",
              "      <th>status_code</th>\n",
              "      <th>request_length</th>\n",
              "      <th>request_time</th>\n",
              "      <th>http_method</th>\n",
              "      <th>url</th>\n",
              "    </tr>\n",
              "  </thead>\n",
              "  <tbody>\n",
              "    <tr>\n",
              "      <th>0</th>\n",
              "      <td>2021-05-12 05:06:00+04:30</td>\n",
              "      <td>[Googlebot-Image/1.0]</td>\n",
              "      <td>207.213.193.143</td>\n",
              "      <td>304</td>\n",
              "      <td>0</td>\n",
              "      <td>32</td>\n",
              "      <td>Get</td>\n",
              "      <td>/cdn/profiles/1026106239</td>\n",
              "    </tr>\n",
              "    <tr>\n",
              "      <th>1</th>\n",
              "      <td>2021-05-12 05:06:00+04:30</td>\n",
              "      <td>[Googlebot-Image/1.0]</td>\n",
              "      <td>207.213.193.143</td>\n",
              "      <td>304</td>\n",
              "      <td>0</td>\n",
              "      <td>4</td>\n",
              "      <td>Get</td>\n",
              "      <td>images/badge.png</td>\n",
              "    </tr>\n",
              "    <tr>\n",
              "      <th>2</th>\n",
              "      <td>2021-05-12 05:06:00+04:30</td>\n",
              "      <td>[[Linux, Android 6.0.1, SAMSUNG SM-J710GN Buil...</td>\n",
              "      <td>35.110.222.153</td>\n",
              "      <td>200</td>\n",
              "      <td>52567</td>\n",
              "      <td>32</td>\n",
              "      <td>Get</td>\n",
              "      <td>/pages/630180847</td>\n",
              "    </tr>\n",
              "    <tr>\n",
              "      <th>3</th>\n",
              "      <td>2021-05-12 05:06:00+04:30</td>\n",
              "      <td>[[Linux, Android 6.0, CAM-L21], [KHTML, like G...</td>\n",
              "      <td>35.108.208.99</td>\n",
              "      <td>200</td>\n",
              "      <td>23531</td>\n",
              "      <td>20</td>\n",
              "      <td>Get</td>\n",
              "      <td>images/fav_icon2.ico</td>\n",
              "    </tr>\n",
              "    <tr>\n",
              "      <th>4</th>\n",
              "      <td>2021-05-12 05:06:00+04:30</td>\n",
              "      <td>[[Linux, Android 6.0.1, SAMSUNG SM-J710GN Buil...</td>\n",
              "      <td>35.110.222.153</td>\n",
              "      <td>200</td>\n",
              "      <td>4680</td>\n",
              "      <td>8</td>\n",
              "      <td>Get</td>\n",
              "      <td>images/sanjagh_logo_purpule5.png</td>\n",
              "    </tr>\n",
              "  </tbody>\n",
              "</table>\n",
              "</div>"
            ]
          },
          "metadata": {
            "tags": []
          },
          "execution_count": 12
        }
      ]
    },
    {
      "cell_type": "code",
      "metadata": {
        "id": "82pL-rYsv8iQ"
      },
      "source": [
        "df = df[df.request_time.apply(lambda x: x.isnumeric())]"
      ],
      "execution_count": null,
      "outputs": []
    },
    {
      "cell_type": "code",
      "metadata": {
        "id": "5hDje7Y_wMgR"
      },
      "source": [
        "df.request_time = df.request_time.astype('int64')"
      ],
      "execution_count": null,
      "outputs": []
    },
    {
      "cell_type": "code",
      "metadata": {
        "colab": {
          "base_uri": "https://localhost:8080/"
        },
        "id": "q7pQ_aG8xhZ0",
        "outputId": "7ad06da8-ef1f-4d64-8575-16a375e856f5"
      },
      "source": [
        "df.info()"
      ],
      "execution_count": null,
      "outputs": [
        {
          "output_type": "stream",
          "text": [
            "<class 'pandas.core.frame.DataFrame'>\n",
            "Int64Index: 1240227 entries, 0 to 1260034\n",
            "Data columns (total 8 columns):\n",
            " #   Column           Non-Null Count    Dtype                                \n",
            "---  ------           --------------    -----                                \n",
            " 0   datetime         1240227 non-null  datetime64[ns, pytz.FixedOffset(270)]\n",
            " 1   http_user_agent  1240227 non-null  object                               \n",
            " 2   ip               1240227 non-null  object                               \n",
            " 3   status_code      1240227 non-null  int64                                \n",
            " 4   request_length   1240227 non-null  int64                                \n",
            " 5   request_time     1240227 non-null  int64                                \n",
            " 6   http_method      1240227 non-null  object                               \n",
            " 7   url              1240227 non-null  object                               \n",
            "dtypes: datetime64[ns, pytz.FixedOffset(270)](1), int64(3), object(4)\n",
            "memory usage: 117.4+ MB\n"
          ],
          "name": "stdout"
        }
      ]
    },
    {
      "cell_type": "code",
      "metadata": {
        "colab": {
          "base_uri": "https://localhost:8080/"
        },
        "id": "5F4wNiLIyGNI",
        "outputId": "15cc284b-d136-4b41-84b6-04aba437aaff"
      },
      "source": [
        "df[['status_code', 'http_method', 'url']].nunique()"
      ],
      "execution_count": null,
      "outputs": [
        {
          "output_type": "execute_result",
          "data": {
            "text/plain": [
              "status_code        16\n",
              "http_method         5\n",
              "url            138813\n",
              "dtype: int64"
            ]
          },
          "metadata": {
            "tags": []
          },
          "execution_count": 30
        }
      ]
    },
    {
      "cell_type": "code",
      "metadata": {
        "colab": {
          "base_uri": "https://localhost:8080/",
          "height": 297
        },
        "id": "kZh2Qe902Y3z",
        "outputId": "ad82b020-e13e-43e4-a55f-6941703232c2"
      },
      "source": [
        "df.describe()"
      ],
      "execution_count": null,
      "outputs": [
        {
          "output_type": "execute_result",
          "data": {
            "text/plain": [
              "        status_code  request_length  request_time\n",
              "count  1.240227e+06    1.240227e+06  1.240227e+06\n",
              "mean   2.303822e+02    4.648727e+04  6.819186e+03\n",
              "std    5.787077e+01    3.376622e+05  1.845683e+05\n",
              "min    1.010000e+02    0.000000e+00  0.000000e+00\n",
              "25%    2.000000e+02    0.000000e+00  4.000000e+00\n",
              "50%    2.000000e+02    1.201000e+03  1.200000e+01\n",
              "75%    3.040000e+02    2.741100e+04  2.400000e+01\n",
              "max    5.030000e+02    1.022335e+08  1.750470e+08"
            ],
            "text/html": [
              "<div>\n",
              "<style scoped>\n",
              "    .dataframe tbody tr th:only-of-type {\n",
              "        vertical-align: middle;\n",
              "    }\n",
              "\n",
              "    .dataframe tbody tr th {\n",
              "        vertical-align: top;\n",
              "    }\n",
              "\n",
              "    .dataframe thead th {\n",
              "        text-align: right;\n",
              "    }\n",
              "</style>\n",
              "<table border=\"1\" class=\"dataframe\">\n",
              "  <thead>\n",
              "    <tr style=\"text-align: right;\">\n",
              "      <th></th>\n",
              "      <th>status_code</th>\n",
              "      <th>request_length</th>\n",
              "      <th>request_time</th>\n",
              "    </tr>\n",
              "  </thead>\n",
              "  <tbody>\n",
              "    <tr>\n",
              "      <th>count</th>\n",
              "      <td>1.240227e+06</td>\n",
              "      <td>1.240227e+06</td>\n",
              "      <td>1.240227e+06</td>\n",
              "    </tr>\n",
              "    <tr>\n",
              "      <th>mean</th>\n",
              "      <td>2.303822e+02</td>\n",
              "      <td>4.648727e+04</td>\n",
              "      <td>6.819186e+03</td>\n",
              "    </tr>\n",
              "    <tr>\n",
              "      <th>std</th>\n",
              "      <td>5.787077e+01</td>\n",
              "      <td>3.376622e+05</td>\n",
              "      <td>1.845683e+05</td>\n",
              "    </tr>\n",
              "    <tr>\n",
              "      <th>min</th>\n",
              "      <td>1.010000e+02</td>\n",
              "      <td>0.000000e+00</td>\n",
              "      <td>0.000000e+00</td>\n",
              "    </tr>\n",
              "    <tr>\n",
              "      <th>25%</th>\n",
              "      <td>2.000000e+02</td>\n",
              "      <td>0.000000e+00</td>\n",
              "      <td>4.000000e+00</td>\n",
              "    </tr>\n",
              "    <tr>\n",
              "      <th>50%</th>\n",
              "      <td>2.000000e+02</td>\n",
              "      <td>1.201000e+03</td>\n",
              "      <td>1.200000e+01</td>\n",
              "    </tr>\n",
              "    <tr>\n",
              "      <th>75%</th>\n",
              "      <td>3.040000e+02</td>\n",
              "      <td>2.741100e+04</td>\n",
              "      <td>2.400000e+01</td>\n",
              "    </tr>\n",
              "    <tr>\n",
              "      <th>max</th>\n",
              "      <td>5.030000e+02</td>\n",
              "      <td>1.022335e+08</td>\n",
              "      <td>1.750470e+08</td>\n",
              "    </tr>\n",
              "  </tbody>\n",
              "</table>\n",
              "</div>"
            ]
          },
          "metadata": {
            "tags": []
          },
          "execution_count": 33
        }
      ]
    },
    {
      "cell_type": "code",
      "metadata": {
        "id": "FWKp5E-l4SGZ"
      },
      "source": [
        ""
      ],
      "execution_count": null,
      "outputs": []
    }
  ]
}
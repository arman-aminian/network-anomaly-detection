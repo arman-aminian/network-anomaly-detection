{
 "cells": [
  {
   "cell_type": "markdown",
   "metadata": {},
   "source": [
    "# Parameters"
   ]
  },
  {
   "cell_type": "code",
   "execution_count": 1,
   "metadata": {},
   "outputs": [],
   "source": [
    "TRAIN_SIZE = 1200000\n",
    "MIN_PATH_ROOT_SAMPLE = 15000\n",
    "EPSILON = 0.000001\n",
    "SESSION_THRESHOLD = 15 * 60 # seconds\n",
    "TIME_WINDOW = 60 # seconds\n",
    "DURATION_THRESHOLD = 180 * 60 # seconds\n"
   ]
  },
  {
   "cell_type": "markdown",
   "metadata": {
    "id": "Nvy9zukKviqg"
   },
   "source": [
    "# Packages"
   ]
  },
  {
   "cell_type": "code",
   "execution_count": 214,
   "metadata": {
    "id": "B-P82aDwsqk8"
   },
   "outputs": [],
   "source": [
    "#main packages\n",
    "import numpy as np\n",
    "import pandas as pd\n",
    "from pandas import Timestamp\n",
    "import matplotlib.pyplot as plt\n",
    "%matplotlib inline\n",
    "import seaborn as sns\n",
    "from user_agents import parse\n",
    "\n",
    "#scikit-learn\n",
    "from sklearn.preprocessing import OneHotEncoder\n",
    "from sklearn.preprocessing import StandardScaler\n",
    "from sklearn.preprocessing import Normalizer\n",
    "from sklearn.preprocessing import MinMaxScaler\n",
    "from sklearn.model_selection import train_test_split\n",
    "from sklearn.preprocessing import normalize\n",
    "from sklearn.feature_selection import mutual_info_classif\n",
    "\n",
    "from datetime import datetime, timedelta"
   ]
  },
  {
   "cell_type": "markdown",
   "metadata": {},
   "source": [
    "# Global helper functions"
   ]
  },
  {
   "cell_type": "code",
   "execution_count": 3,
   "metadata": {},
   "outputs": [],
   "source": [
    "def get_root(s):\n",
    "    if s.startswith('/') and len(s) > 1:\n",
    "        s = s[1:]\n",
    "    if len(s) > 1:\n",
    "        s = s[:s.find('/')]\n",
    "    return s"
   ]
  },
  {
   "cell_type": "code",
   "execution_count": 4,
   "metadata": {},
   "outputs": [],
   "source": [
    "def get_path_roots(urls, min_samples_per_root=1000):\n",
    "    t = [get_root(s) for s in urls]\n",
    "\n",
    "    t = ['ROBOTS' if 'robots' in s else s for s in t]\n",
    "    t = ['NUM' if s.isnumeric() else s for s in t]\n",
    "\n",
    "    t2 = pd.Series(t).value_counts()[pd.Series(t).value_counts().values > min_samples_per_root]\n",
    "    if 'ROBOTS' not in t2:\n",
    "        roots = np.concatenate((t2.index.values, ['ROBOTS']))\n",
    "        values = np.concatenate((t2.values, [pd.Series(t).value_counts()['ROBOTS']]))\n",
    "    else:\n",
    "        roots = np.array(t2.index.values)\n",
    "        values = np.array(t2.values)\n",
    "    return roots, values"
   ]
  },
  {
   "cell_type": "code",
   "execution_count": 5,
   "metadata": {},
   "outputs": [],
   "source": [
    "def convert_urls_to_roots(urls, min_samples_per_root=1000):\n",
    "    t = [get_root(s) for s in urls]\n",
    "\n",
    "    t = ['ROBOTS' if 'robots' in s else s for s in t]\n",
    "    t = ['NUM' if s.isnumeric() else s for s in t]\n",
    "\n",
    "    t2 = pd.Series(t).value_counts()[pd.Series(t).value_counts().values > MIN_PATH_ROOT_SAMPLE]\n",
    "    if 'ROBOTS' not in t2:\n",
    "        roots = np.concatenate((t2.index.values, ['ROBOTS']))\n",
    "    else:\n",
    "        roots = np.array(t2.index.values)\n",
    "    t = pd.Series([s if s in roots else 'OTHER' for s in t])\n",
    "    return t"
   ]
  },
  {
   "cell_type": "code",
   "execution_count": 207,
   "metadata": {},
   "outputs": [],
   "source": [
    "def get_categorical_status_code_counts(status_codes):\n",
    "    status_counts = np.zeros(5)\n",
    "    for i in range(status_codes.nunique()):\n",
    "        status_counts[int(np.floor(int(status_codes.value_counts().index[i]) / 100) - 1)] += status_codes.value_counts().values[i]\n",
    "    return status_counts"
   ]
  },
  {
   "cell_type": "code",
   "execution_count": 7,
   "metadata": {},
   "outputs": [],
   "source": [
    "def isnumeric(s):\n",
    "    try:\n",
    "        float(s)\n",
    "        return True\n",
    "    except ValueError:\n",
    "        return False"
   ]
  },
  {
   "cell_type": "markdown",
   "metadata": {
    "id": "_TgVolOjvGhZ"
   },
   "source": [
    "# Dataset"
   ]
  },
  {
   "cell_type": "code",
   "execution_count": 8,
   "metadata": {
    "id": "nIJyNCgecW-6"
   },
   "outputs": [],
   "source": [
    "df = pd.read_json('../result.json')"
   ]
  },
  {
   "cell_type": "code",
   "execution_count": 9,
   "metadata": {},
   "outputs": [],
   "source": [
    "train = df"
   ]
  },
  {
   "cell_type": "markdown",
   "metadata": {},
   "source": [
    "# Session Identification"
   ]
  },
  {
   "cell_type": "markdown",
   "metadata": {},
   "source": [
    "## Helper functions"
   ]
  },
  {
   "cell_type": "markdown",
   "metadata": {},
   "source": [
    "### Get Max Sustained Click Rate"
   ]
  },
  {
   "cell_type": "code",
   "execution_count": 11,
   "metadata": {},
   "outputs": [],
   "source": [
    "def get_max_click_rate(session):\n",
    "    m = 0\n",
    "    session = session[session.url.apply(lambda x: 'pages' in x)]\n",
    "    for l in session.datetime:\n",
    "        m = max(m, len(session[(session.datetime >= l) &\n",
    "                               (session.datetime <= l + timedelta(seconds=TIME_WINDOW))]))\n",
    "    return m"
   ]
  },
  {
   "cell_type": "code",
   "execution_count": 13,
   "metadata": {},
   "outputs": [],
   "source": [
    "get_max_click_rate(temp)"
   ]
  },
  {
   "cell_type": "markdown",
   "metadata": {},
   "source": [
    "### Duration"
   ]
  },
  {
   "cell_type": "code",
   "execution_count": 208,
   "metadata": {},
   "outputs": [],
   "source": [
    "def get_duration(session):\n",
    "    return (Timestamp(session.datetime.iloc[-1]) - Timestamp(session.datetime.iloc[0])).seconds"
   ]
  },
  {
   "cell_type": "code",
   "execution_count": null,
   "metadata": {},
   "outputs": [],
   "source": [
    "get_duration(temp)"
   ]
  },
  {
   "cell_type": "markdown",
   "metadata": {},
   "source": [
    "### Percentage of Image Requests"
   ]
  },
  {
   "cell_type": "code",
   "execution_count": 13,
   "metadata": {},
   "outputs": [],
   "source": [
    "def get_image_freq(session):\n",
    "    t = [get_root(s) for s in session.url]\n",
    "    return t.count('images') / len(t)"
   ]
  },
  {
   "cell_type": "code",
   "execution_count": null,
   "metadata": {},
   "outputs": [],
   "source": [
    "get_image_freq(temp)"
   ]
  },
  {
   "cell_type": "markdown",
   "metadata": {},
   "source": [
    "### Percentage of 4xx Error Responses "
   ]
  },
  {
   "cell_type": "code",
   "execution_count": 186,
   "metadata": {},
   "outputs": [],
   "source": [
    "def get_4xx_freq(session):\n",
    "    status_counts = get_categorical_status_code_counts(session.status_code)\n",
    "    return status_counts[3] / len(session)"
   ]
  },
  {
   "cell_type": "code",
   "execution_count": 115,
   "metadata": {},
   "outputs": [
    {
     "data": {
      "text/plain": [
       "0.0"
      ]
     },
     "execution_count": 115,
     "metadata": {},
     "output_type": "execute_result"
    }
   ],
   "source": [
    "get_4xx_freq(temp)"
   ]
  },
  {
   "cell_type": "markdown",
   "metadata": {},
   "source": [
    "### Percentage of Page Requests"
   ]
  },
  {
   "cell_type": "code",
   "execution_count": 15,
   "metadata": {},
   "outputs": [],
   "source": [
    "def get_page_freq(session):\n",
    "    t = [get_root(s) for s in session.url]\n",
    "    return (t.count('pages') + t.count('php') + t.count('asp')) / len(t)"
   ]
  },
  {
   "cell_type": "code",
   "execution_count": 161,
   "metadata": {},
   "outputs": [
    {
     "data": {
      "text/plain": [
       "0.0"
      ]
     },
     "execution_count": 161,
     "metadata": {},
     "output_type": "execute_result"
    }
   ],
   "source": [
    "get_page_freq(temp)"
   ]
  },
  {
   "cell_type": "markdown",
   "metadata": {},
   "source": [
    "### Percentage of Head Requests"
   ]
  },
  {
   "cell_type": "code",
   "execution_count": 218,
   "metadata": {},
   "outputs": [],
   "source": [
    "def get_head_freq(session):\n",
    "    return len(session[session.http_method == 'Head']) / len(session)"
   ]
  },
  {
   "cell_type": "code",
   "execution_count": 174,
   "metadata": {},
   "outputs": [
    {
     "data": {
      "text/plain": [
       "0.0"
      ]
     },
     "execution_count": 174,
     "metadata": {},
     "output_type": "execute_result"
    }
   ],
   "source": [
    "get_head_freq(temp)"
   ]
  },
  {
   "cell_type": "markdown",
   "metadata": {},
   "source": [
    "### Robots Request"
   ]
  },
  {
   "cell_type": "code",
   "execution_count": 17,
   "metadata": {},
   "outputs": [],
   "source": [
    "def has_robots_req(session):\n",
    "    t = ['robots' in s for s in session.url]\n",
    "    return int(sum(t) > 0)"
   ]
  },
  {
   "cell_type": "code",
   "execution_count": 180,
   "metadata": {},
   "outputs": [
    {
     "data": {
      "text/plain": [
       "0"
      ]
     },
     "execution_count": 180,
     "metadata": {},
     "output_type": "execute_result"
    }
   ],
   "source": [
    "has_robots_req(temp)"
   ]
  },
  {
   "cell_type": "markdown",
   "metadata": {},
   "source": [
    "### Is Bot"
   ]
  },
  {
   "cell_type": "code",
   "execution_count": 18,
   "metadata": {},
   "outputs": [],
   "source": [
    "def is_bot(session):\n",
    "    user_agent = parse(session.http_user_agent.iloc[0])\n",
    "    return int(user_agent.is_bot)"
   ]
  },
  {
   "cell_type": "code",
   "execution_count": 198,
   "metadata": {},
   "outputs": [
    {
     "data": {
      "text/plain": [
       "0"
      ]
     },
     "execution_count": 198,
     "metadata": {},
     "output_type": "execute_result"
    }
   ],
   "source": [
    "is_bot(temp)"
   ]
  },
  {
   "cell_type": "markdown",
   "metadata": {},
   "source": [
    "## Feature Extraction"
   ]
  },
  {
   "cell_type": "code",
   "execution_count": 19,
   "metadata": {},
   "outputs": [],
   "source": [
    "train_gb = train.groupby(['http_user_agent', 'ip'])"
   ]
  },
  {
   "cell_type": "code",
   "execution_count": 20,
   "metadata": {},
   "outputs": [],
   "source": [
    "res = pd.DataFrame(columns = ['session_ua', 'session_ip', 'head_freq', 'req_num', 'img_freq', \n",
    "                              'page_freq', 'status_4xx_freq', 'max_click_rate',\n",
    "                              'has_robots', 'duration'])\n",
    "\n",
    "for x, l in train_gb:\n",
    "    temp = []\n",
    "    for i in range(len(l)):\n",
    "        if len(temp) > 0 and (l.datetime.iloc[i] - l.datetime.iloc[i-1]).seconds > SESSION_THRESHOLD:\n",
    "            temp = pd.DataFrame(temp)\n",
    "            res = res.append({'session_ua' : x[0], \n",
    "                              'session_ip' : x[1],\n",
    "                              'head_freq' : get_head_freq(temp), \n",
    "                              'req_num' : len(temp),\n",
    "                              'img_freq' : get_image_freq(temp),\n",
    "                              'page_freq' : get_page_freq(temp),\n",
    "                              'status_4xx_freq' : get_4xx_freq(temp),\n",
    "                              'max_click_rate' : get_max_click_rate(temp),\n",
    "                              'has_robots' : has_robots_req(temp),\n",
    "                              'duration' : get_duration(temp),\n",
    "                              'is_bot' : is_bot(temp)\n",
    "                             }, \n",
    "                             ignore_index = True)\n",
    "            temp = []\n",
    "        temp.append(l.iloc[i])\n",
    "    temp = pd.DataFrame(temp)\n",
    "    res = res.append({'session_ua' : x[0], \n",
    "                      'session_ip' : x[1],\n",
    "                      'head_freq' : get_head_freq(temp), \n",
    "                      'req_num' : len(temp),\n",
    "                      'img_freq' : get_image_freq(temp),\n",
    "                      'page_freq' : get_page_freq(temp),\n",
    "                      'status_4xx_freq' : get_4xx_freq(temp),\n",
    "                      'max_click_rate' : get_max_click_rate(temp),\n",
    "                      'has_robots' : has_robots_req(temp),\n",
    "                      'duration' : get_duration(temp),\n",
    "                      'is_bot' : is_bot(temp)\n",
    "                     }, \n",
    "                     ignore_index = True)\n",
    "    "
   ]
  },
  {
   "cell_type": "code",
   "execution_count": 97,
   "metadata": {},
   "outputs": [
    {
     "data": {
      "text/html": [
       "<div>\n",
       "<style scoped>\n",
       "    .dataframe tbody tr th:only-of-type {\n",
       "        vertical-align: middle;\n",
       "    }\n",
       "\n",
       "    .dataframe tbody tr th {\n",
       "        vertical-align: top;\n",
       "    }\n",
       "\n",
       "    .dataframe thead th {\n",
       "        text-align: right;\n",
       "    }\n",
       "</style>\n",
       "<table border=\"1\" class=\"dataframe\">\n",
       "  <thead>\n",
       "    <tr style=\"text-align: right;\">\n",
       "      <th></th>\n",
       "      <th>session_ua</th>\n",
       "      <th>session_ip</th>\n",
       "      <th>head_freq</th>\n",
       "      <th>req_num</th>\n",
       "      <th>img_freq</th>\n",
       "      <th>page_freq</th>\n",
       "      <th>status_4xx_freq</th>\n",
       "      <th>max_click_rate</th>\n",
       "      <th>has_robots</th>\n",
       "      <th>duration</th>\n",
       "      <th>is_bot</th>\n",
       "      <th>req_freq</th>\n",
       "    </tr>\n",
       "  </thead>\n",
       "  <tbody>\n",
       "    <tr>\n",
       "      <th>0</th>\n",
       "      <td>AdsBot-Google (+http://www.google.com/adsbot.h...</td>\n",
       "      <td>207.213.134.109</td>\n",
       "      <td>0.0</td>\n",
       "      <td>17</td>\n",
       "      <td>0.000000</td>\n",
       "      <td>0.0</td>\n",
       "      <td>0.0</td>\n",
       "      <td>0</td>\n",
       "      <td>0</td>\n",
       "      <td>992</td>\n",
       "      <td>1.0</td>\n",
       "      <td>0.0171371</td>\n",
       "    </tr>\n",
       "    <tr>\n",
       "      <th>1</th>\n",
       "      <td>AdsBot-Google (+http://www.google.com/adsbot.h...</td>\n",
       "      <td>207.213.134.109</td>\n",
       "      <td>0.0</td>\n",
       "      <td>159</td>\n",
       "      <td>0.006289</td>\n",
       "      <td>0.0</td>\n",
       "      <td>0.0</td>\n",
       "      <td>0</td>\n",
       "      <td>0</td>\n",
       "      <td>6413</td>\n",
       "      <td>1.0</td>\n",
       "      <td>0.0247934</td>\n",
       "    </tr>\n",
       "    <tr>\n",
       "      <th>2</th>\n",
       "      <td>AdsBot-Google (+http://www.google.com/adsbot.h...</td>\n",
       "      <td>207.213.134.109</td>\n",
       "      <td>0.0</td>\n",
       "      <td>13</td>\n",
       "      <td>0.230769</td>\n",
       "      <td>0.0</td>\n",
       "      <td>0.0</td>\n",
       "      <td>0</td>\n",
       "      <td>0</td>\n",
       "      <td>9</td>\n",
       "      <td>1.0</td>\n",
       "      <td>1.44444</td>\n",
       "    </tr>\n",
       "    <tr>\n",
       "      <th>3</th>\n",
       "      <td>AdsBot-Google (+http://www.google.com/adsbot.h...</td>\n",
       "      <td>207.213.134.109</td>\n",
       "      <td>0.0</td>\n",
       "      <td>7</td>\n",
       "      <td>0.000000</td>\n",
       "      <td>0.0</td>\n",
       "      <td>0.0</td>\n",
       "      <td>0</td>\n",
       "      <td>0</td>\n",
       "      <td>910</td>\n",
       "      <td>1.0</td>\n",
       "      <td>0.00769231</td>\n",
       "    </tr>\n",
       "    <tr>\n",
       "      <th>4</th>\n",
       "      <td>AdsBot-Google (+http://www.google.com/adsbot.h...</td>\n",
       "      <td>207.213.134.109</td>\n",
       "      <td>0.0</td>\n",
       "      <td>9</td>\n",
       "      <td>0.333333</td>\n",
       "      <td>0.0</td>\n",
       "      <td>0.0</td>\n",
       "      <td>0</td>\n",
       "      <td>0</td>\n",
       "      <td>1080</td>\n",
       "      <td>1.0</td>\n",
       "      <td>0.00833333</td>\n",
       "    </tr>\n",
       "  </tbody>\n",
       "</table>\n",
       "</div>"
      ],
      "text/plain": [
       "                                          session_ua       session_ip  \\\n",
       "0  AdsBot-Google (+http://www.google.com/adsbot.h...  207.213.134.109   \n",
       "1  AdsBot-Google (+http://www.google.com/adsbot.h...  207.213.134.109   \n",
       "2  AdsBot-Google (+http://www.google.com/adsbot.h...  207.213.134.109   \n",
       "3  AdsBot-Google (+http://www.google.com/adsbot.h...  207.213.134.109   \n",
       "4  AdsBot-Google (+http://www.google.com/adsbot.h...  207.213.134.109   \n",
       "\n",
       "   head_freq req_num  img_freq  page_freq  status_4xx_freq max_click_rate  \\\n",
       "0        0.0      17  0.000000        0.0              0.0              0   \n",
       "1        0.0     159  0.006289        0.0              0.0              0   \n",
       "2        0.0      13  0.230769        0.0              0.0              0   \n",
       "3        0.0       7  0.000000        0.0              0.0              0   \n",
       "4        0.0       9  0.333333        0.0              0.0              0   \n",
       "\n",
       "  has_robots duration  is_bot    req_freq  \n",
       "0          0      992     1.0   0.0171371  \n",
       "1          0     6413     1.0   0.0247934  \n",
       "2          0        9     1.0     1.44444  \n",
       "3          0      910     1.0  0.00769231  \n",
       "4          0     1080     1.0  0.00833333  "
      ]
     },
     "execution_count": 97,
     "metadata": {},
     "output_type": "execute_result"
    }
   ],
   "source": [
    "res.head()"
   ]
  },
  {
   "cell_type": "code",
   "execution_count": 206,
   "metadata": {},
   "outputs": [
    {
     "data": {
      "text/plain": [
       "Timestamp('2021-05-12 05:06:00+0430', tz='pytz.FixedOffset(270)')"
      ]
     },
     "execution_count": 206,
     "metadata": {},
     "output_type": "execute_result"
    }
   ],
   "source": [
    "df.datetime.iloc[0]"
   ]
  },
  {
   "cell_type": "code",
   "execution_count": null,
   "metadata": {},
   "outputs": [],
   "source": []
  },
  {
   "cell_type": "code",
   "execution_count": null,
   "metadata": {},
   "outputs": [],
   "source": []
  },
  {
   "cell_type": "code",
   "execution_count": null,
   "metadata": {},
   "outputs": [],
   "source": []
  },
  {
   "cell_type": "code",
   "execution_count": null,
   "metadata": {},
   "outputs": [],
   "source": []
  },
  {
   "cell_type": "code",
   "execution_count": 210,
   "metadata": {},
   "outputs": [],
   "source": [
    "import json\n",
    "import re\n",
    "\n",
    "\n",
    "def parse_http_agent(http_agent):\n",
    "    return http_agent\n",
    "\n",
    "\n",
    "def req_parse(line: str):\n",
    "    line = line.replace('[[', '[').replace(']]', ']')\n",
    "    normal_dict_keys = ('ip', 'status_code', 'request_length', 'request_time',)\n",
    "    in_bracket_dict_keys = ('datetime', 'method_and_url', 'http_user_agent')\n",
    "    result_dict = dict()\n",
    "    regex = r'(?<=\\[).+?(?=\\])'\n",
    "    in_bracket_dict_values = re.findall(regex, line)\n",
    "    for i in range(len(in_bracket_dict_keys)):\n",
    "        result_dict[in_bracket_dict_keys[i]] = in_bracket_dict_values[i]\n",
    "        line = line.replace(f' [{in_bracket_dict_values[i]}]', '')\n",
    "    normal_dict_values = line.split()\n",
    "    for i in range(len(normal_dict_keys)):\n",
    "        result_dict[normal_dict_keys[i]] = normal_dict_values[i]\n",
    "\n",
    "    result_dict['http_method'], result_dict['url'] = result_dict.pop('method_and_url').split()\n",
    "    result_dict['http_user_agent'] = parse_http_agent(result_dict['http_user_agent'])\n",
    "    return result_dict\n"
   ]
  },
  {
   "cell_type": "code",
   "execution_count": 188,
   "metadata": {},
   "outputs": [],
   "source": [
    "def preprocess(session):\n",
    "    res = pd.DataFrame(columns=['head_freq', 'req_num', 'img_freq',\n",
    "                                'page_freq', 'status_4xx_freq', 'max_click_rate',\n",
    "                                'has_robots', 'duration'])\n",
    "    temp = []\n",
    "    for i in range(len(session)):\n",
    "        if len(temp) > 0 and (session.datetime.iloc[i] - session.datetime.iloc[i - 1]).seconds > SESSION_THRESHOLD:\n",
    "            temp = pd.DataFrame(temp)\n",
    "            res = res.append({'head_freq': get_head_freq(temp),\n",
    "                              'req_num': len(temp),\n",
    "                              'img_freq': get_image_freq(temp),\n",
    "                              'page_freq': get_page_freq(temp),\n",
    "                              'status_4xx_freq': get_4xx_freq(temp),\n",
    "                              'max_click_rate': get_max_click_rate(temp),\n",
    "                              'has_robots': has_robots_req(temp),\n",
    "                              'duration': get_duration(temp),\n",
    "                              'is_bot': is_bot(temp)\n",
    "                              },\n",
    "                             ignore_index=True)\n",
    "            temp = []\n",
    "        temp.append(session.iloc[i])\n",
    "    temp = pd.DataFrame(temp)\n",
    "    res = res.append({'head_freq': get_head_freq(temp),\n",
    "                      'req_num': len(temp),\n",
    "                      'img_freq': get_image_freq(temp),\n",
    "                      'page_freq': get_page_freq(temp),\n",
    "                      'status_4xx_freq': get_4xx_freq(temp),\n",
    "                      'max_click_rate': get_max_click_rate(temp),\n",
    "                      'has_robots': has_robots_req(temp),\n",
    "                      'duration': get_duration(temp),\n",
    "                      'is_bot': is_bot(temp)\n",
    "                      },\n",
    "                     ignore_index=True)\n",
    "    return res.iloc[-1]"
   ]
  },
  {
   "cell_type": "code",
   "execution_count": 22,
   "metadata": {},
   "outputs": [],
   "source": [
    "res = res[res.req_num >= 5]\n",
    "res = res[res.duration > 0]\n",
    "res['req_freq'] = res.req_num / res.duration"
   ]
  },
  {
   "cell_type": "code",
   "execution_count": 23,
   "metadata": {},
   "outputs": [
    {
     "data": {
      "text/html": [
       "<div>\n",
       "<style scoped>\n",
       "    .dataframe tbody tr th:only-of-type {\n",
       "        vertical-align: middle;\n",
       "    }\n",
       "\n",
       "    .dataframe tbody tr th {\n",
       "        vertical-align: top;\n",
       "    }\n",
       "\n",
       "    .dataframe thead th {\n",
       "        text-align: right;\n",
       "    }\n",
       "</style>\n",
       "<table border=\"1\" class=\"dataframe\">\n",
       "  <thead>\n",
       "    <tr style=\"text-align: right;\">\n",
       "      <th></th>\n",
       "      <th>head_freq</th>\n",
       "      <th>req_num</th>\n",
       "      <th>img_freq</th>\n",
       "      <th>page_freq</th>\n",
       "      <th>status_4xx_freq</th>\n",
       "      <th>max_click_rate</th>\n",
       "      <th>has_robots</th>\n",
       "      <th>duration</th>\n",
       "      <th>is_bot</th>\n",
       "      <th>req_freq</th>\n",
       "    </tr>\n",
       "  </thead>\n",
       "  <tbody>\n",
       "    <tr>\n",
       "      <th>0</th>\n",
       "      <td>0.0</td>\n",
       "      <td>17</td>\n",
       "      <td>0.000000</td>\n",
       "      <td>0.0</td>\n",
       "      <td>0.0</td>\n",
       "      <td>0</td>\n",
       "      <td>0</td>\n",
       "      <td>992</td>\n",
       "      <td>1.0</td>\n",
       "      <td>0.0171371</td>\n",
       "    </tr>\n",
       "    <tr>\n",
       "      <th>1</th>\n",
       "      <td>0.0</td>\n",
       "      <td>159</td>\n",
       "      <td>0.006289</td>\n",
       "      <td>0.0</td>\n",
       "      <td>0.0</td>\n",
       "      <td>0</td>\n",
       "      <td>0</td>\n",
       "      <td>6413</td>\n",
       "      <td>1.0</td>\n",
       "      <td>0.0247934</td>\n",
       "    </tr>\n",
       "    <tr>\n",
       "      <th>2</th>\n",
       "      <td>0.0</td>\n",
       "      <td>13</td>\n",
       "      <td>0.230769</td>\n",
       "      <td>0.0</td>\n",
       "      <td>0.0</td>\n",
       "      <td>0</td>\n",
       "      <td>0</td>\n",
       "      <td>9</td>\n",
       "      <td>1.0</td>\n",
       "      <td>1.44444</td>\n",
       "    </tr>\n",
       "    <tr>\n",
       "      <th>3</th>\n",
       "      <td>0.0</td>\n",
       "      <td>7</td>\n",
       "      <td>0.000000</td>\n",
       "      <td>0.0</td>\n",
       "      <td>0.0</td>\n",
       "      <td>0</td>\n",
       "      <td>0</td>\n",
       "      <td>910</td>\n",
       "      <td>1.0</td>\n",
       "      <td>0.00769231</td>\n",
       "    </tr>\n",
       "    <tr>\n",
       "      <th>4</th>\n",
       "      <td>0.0</td>\n",
       "      <td>9</td>\n",
       "      <td>0.333333</td>\n",
       "      <td>0.0</td>\n",
       "      <td>0.0</td>\n",
       "      <td>0</td>\n",
       "      <td>0</td>\n",
       "      <td>1080</td>\n",
       "      <td>1.0</td>\n",
       "      <td>0.00833333</td>\n",
       "    </tr>\n",
       "  </tbody>\n",
       "</table>\n",
       "</div>"
      ],
      "text/plain": [
       "   head_freq req_num  img_freq  page_freq  status_4xx_freq max_click_rate  \\\n",
       "0        0.0      17  0.000000        0.0              0.0              0   \n",
       "1        0.0     159  0.006289        0.0              0.0              0   \n",
       "2        0.0      13  0.230769        0.0              0.0              0   \n",
       "3        0.0       7  0.000000        0.0              0.0              0   \n",
       "4        0.0       9  0.333333        0.0              0.0              0   \n",
       "\n",
       "  has_robots duration  is_bot    req_freq  \n",
       "0          0      992     1.0   0.0171371  \n",
       "1          0     6413     1.0   0.0247934  \n",
       "2          0        9     1.0     1.44444  \n",
       "3          0      910     1.0  0.00769231  \n",
       "4          0     1080     1.0  0.00833333  "
      ]
     },
     "execution_count": 23,
     "metadata": {},
     "output_type": "execute_result"
    }
   ],
   "source": [
    "training_data = res.drop(columns=['session_ua', 'session_ip'])\n",
    "training_data.head()"
   ]
  },
  {
   "cell_type": "code",
   "execution_count": 217,
   "metadata": {},
   "outputs": [
    {
     "data": {
      "text/plain": [
       "65.0"
      ]
     },
     "execution_count": 217,
     "metadata": {},
     "output_type": "execute_result"
    }
   ],
   "source": [
    "training_data.req_freq.max()"
   ]
  },
  {
   "cell_type": "raw",
   "metadata": {},
   "source": []
  },
  {
   "cell_type": "code",
   "execution_count": 24,
   "metadata": {},
   "outputs": [
    {
     "data": {
      "text/html": [
       "<div>\n",
       "<style scoped>\n",
       "    .dataframe tbody tr th:only-of-type {\n",
       "        vertical-align: middle;\n",
       "    }\n",
       "\n",
       "    .dataframe tbody tr th {\n",
       "        vertical-align: top;\n",
       "    }\n",
       "\n",
       "    .dataframe thead th {\n",
       "        text-align: right;\n",
       "    }\n",
       "</style>\n",
       "<table border=\"1\" class=\"dataframe\">\n",
       "  <thead>\n",
       "    <tr style=\"text-align: right;\">\n",
       "      <th></th>\n",
       "      <th>0</th>\n",
       "      <th>1</th>\n",
       "      <th>2</th>\n",
       "      <th>3</th>\n",
       "      <th>4</th>\n",
       "      <th>5</th>\n",
       "      <th>6</th>\n",
       "      <th>7</th>\n",
       "      <th>8</th>\n",
       "      <th>9</th>\n",
       "    </tr>\n",
       "  </thead>\n",
       "  <tbody>\n",
       "    <tr>\n",
       "      <th>0</th>\n",
       "      <td>0.0</td>\n",
       "      <td>0.000508</td>\n",
       "      <td>0.000000</td>\n",
       "      <td>0.0</td>\n",
       "      <td>0.0</td>\n",
       "      <td>0.0</td>\n",
       "      <td>0.0</td>\n",
       "      <td>0.027392</td>\n",
       "      <td>1.0</td>\n",
       "      <td>0.000235</td>\n",
       "    </tr>\n",
       "    <tr>\n",
       "      <th>1</th>\n",
       "      <td>0.0</td>\n",
       "      <td>0.006520</td>\n",
       "      <td>0.006289</td>\n",
       "      <td>0.0</td>\n",
       "      <td>0.0</td>\n",
       "      <td>0.0</td>\n",
       "      <td>0.0</td>\n",
       "      <td>0.177235</td>\n",
       "      <td>1.0</td>\n",
       "      <td>0.000353</td>\n",
       "    </tr>\n",
       "    <tr>\n",
       "      <th>2</th>\n",
       "      <td>0.0</td>\n",
       "      <td>0.000339</td>\n",
       "      <td>0.230769</td>\n",
       "      <td>0.0</td>\n",
       "      <td>0.0</td>\n",
       "      <td>0.0</td>\n",
       "      <td>0.0</td>\n",
       "      <td>0.000221</td>\n",
       "      <td>1.0</td>\n",
       "      <td>0.022194</td>\n",
       "    </tr>\n",
       "    <tr>\n",
       "      <th>3</th>\n",
       "      <td>0.0</td>\n",
       "      <td>0.000085</td>\n",
       "      <td>0.000000</td>\n",
       "      <td>0.0</td>\n",
       "      <td>0.0</td>\n",
       "      <td>0.0</td>\n",
       "      <td>0.0</td>\n",
       "      <td>0.025126</td>\n",
       "      <td>1.0</td>\n",
       "      <td>0.000090</td>\n",
       "    </tr>\n",
       "    <tr>\n",
       "      <th>4</th>\n",
       "      <td>0.0</td>\n",
       "      <td>0.000169</td>\n",
       "      <td>0.333333</td>\n",
       "      <td>0.0</td>\n",
       "      <td>0.0</td>\n",
       "      <td>0.0</td>\n",
       "      <td>0.0</td>\n",
       "      <td>0.029825</td>\n",
       "      <td>1.0</td>\n",
       "      <td>0.000100</td>\n",
       "    </tr>\n",
       "  </tbody>\n",
       "</table>\n",
       "</div>"
      ],
      "text/plain": [
       "     0         1         2    3    4    5    6         7    8         9\n",
       "0  0.0  0.000508  0.000000  0.0  0.0  0.0  0.0  0.027392  1.0  0.000235\n",
       "1  0.0  0.006520  0.006289  0.0  0.0  0.0  0.0  0.177235  1.0  0.000353\n",
       "2  0.0  0.000339  0.230769  0.0  0.0  0.0  0.0  0.000221  1.0  0.022194\n",
       "3  0.0  0.000085  0.000000  0.0  0.0  0.0  0.0  0.025126  1.0  0.000090\n",
       "4  0.0  0.000169  0.333333  0.0  0.0  0.0  0.0  0.029825  1.0  0.000100"
      ]
     },
     "execution_count": 24,
     "metadata": {},
     "output_type": "execute_result"
    }
   ],
   "source": [
    "train_normalized = MinMaxScaler().fit_transform(training_data)\n",
    "train_normalized = pd.DataFrame(train_normalized)\n",
    "train_normalized.head()"
   ]
  },
  {
   "cell_type": "code",
   "execution_count": 25,
   "metadata": {},
   "outputs": [
    {
     "data": {
      "text/html": [
       "<div>\n",
       "<style scoped>\n",
       "    .dataframe tbody tr th:only-of-type {\n",
       "        vertical-align: middle;\n",
       "    }\n",
       "\n",
       "    .dataframe tbody tr th {\n",
       "        vertical-align: top;\n",
       "    }\n",
       "\n",
       "    .dataframe thead th {\n",
       "        text-align: right;\n",
       "    }\n",
       "</style>\n",
       "<table border=\"1\" class=\"dataframe\">\n",
       "  <thead>\n",
       "    <tr style=\"text-align: right;\">\n",
       "      <th></th>\n",
       "      <th>0</th>\n",
       "      <th>1</th>\n",
       "      <th>2</th>\n",
       "      <th>3</th>\n",
       "      <th>4</th>\n",
       "      <th>5</th>\n",
       "      <th>6</th>\n",
       "      <th>7</th>\n",
       "      <th>8</th>\n",
       "      <th>9</th>\n",
       "    </tr>\n",
       "  </thead>\n",
       "  <tbody>\n",
       "    <tr>\n",
       "      <th>0</th>\n",
       "      <td>0.0</td>\n",
       "      <td>0.000508</td>\n",
       "      <td>0.000000</td>\n",
       "      <td>0.0</td>\n",
       "      <td>0.0</td>\n",
       "      <td>0.0</td>\n",
       "      <td>0.0</td>\n",
       "      <td>0.027392</td>\n",
       "      <td>1.0</td>\n",
       "      <td>0.000235</td>\n",
       "    </tr>\n",
       "    <tr>\n",
       "      <th>1</th>\n",
       "      <td>0.0</td>\n",
       "      <td>0.006520</td>\n",
       "      <td>0.006289</td>\n",
       "      <td>0.0</td>\n",
       "      <td>0.0</td>\n",
       "      <td>0.0</td>\n",
       "      <td>0.0</td>\n",
       "      <td>0.177235</td>\n",
       "      <td>1.0</td>\n",
       "      <td>0.000353</td>\n",
       "    </tr>\n",
       "    <tr>\n",
       "      <th>2</th>\n",
       "      <td>0.0</td>\n",
       "      <td>0.000339</td>\n",
       "      <td>0.230769</td>\n",
       "      <td>0.0</td>\n",
       "      <td>0.0</td>\n",
       "      <td>0.0</td>\n",
       "      <td>0.0</td>\n",
       "      <td>0.000221</td>\n",
       "      <td>1.0</td>\n",
       "      <td>0.022194</td>\n",
       "    </tr>\n",
       "    <tr>\n",
       "      <th>3</th>\n",
       "      <td>0.0</td>\n",
       "      <td>0.000085</td>\n",
       "      <td>0.000000</td>\n",
       "      <td>0.0</td>\n",
       "      <td>0.0</td>\n",
       "      <td>0.0</td>\n",
       "      <td>0.0</td>\n",
       "      <td>0.025126</td>\n",
       "      <td>1.0</td>\n",
       "      <td>0.000090</td>\n",
       "    </tr>\n",
       "    <tr>\n",
       "      <th>4</th>\n",
       "      <td>0.0</td>\n",
       "      <td>0.000169</td>\n",
       "      <td>0.333333</td>\n",
       "      <td>0.0</td>\n",
       "      <td>0.0</td>\n",
       "      <td>0.0</td>\n",
       "      <td>0.0</td>\n",
       "      <td>0.029825</td>\n",
       "      <td>1.0</td>\n",
       "      <td>0.000100</td>\n",
       "    </tr>\n",
       "  </tbody>\n",
       "</table>\n",
       "</div>"
      ],
      "text/plain": [
       "     0         1         2    3    4    5    6         7    8         9\n",
       "0  0.0  0.000508  0.000000  0.0  0.0  0.0  0.0  0.027392  1.0  0.000235\n",
       "1  0.0  0.006520  0.006289  0.0  0.0  0.0  0.0  0.177235  1.0  0.000353\n",
       "2  0.0  0.000339  0.230769  0.0  0.0  0.0  0.0  0.000221  1.0  0.022194\n",
       "3  0.0  0.000085  0.000000  0.0  0.0  0.0  0.0  0.025126  1.0  0.000090\n",
       "4  0.0  0.000169  0.333333  0.0  0.0  0.0  0.0  0.029825  1.0  0.000100"
      ]
     },
     "execution_count": 25,
     "metadata": {},
     "output_type": "execute_result"
    }
   ],
   "source": [
    "train_normalized = train_normalized.astype(np.float32)\n",
    "train_normalized.head()"
   ]
  },
  {
   "cell_type": "markdown",
   "metadata": {},
   "source": [
    "## Aproximation Labeling (Session Mode)"
   ]
  },
  {
   "cell_type": "code",
   "execution_count": 26,
   "metadata": {},
   "outputs": [
    {
     "data": {
      "text/plain": [
       "0"
      ]
     },
     "execution_count": 26,
     "metadata": {},
     "output_type": "execute_result"
    }
   ],
   "source": [
    "x = res.iloc[5]\n",
    "int(x.has_robots) + int(x.duration > DURATION_THRESHOLD) + int((x.page_freq / (x.img_freq + EPSILON)) >= 10)"
   ]
  },
  {
   "cell_type": "code",
   "execution_count": 27,
   "metadata": {},
   "outputs": [],
   "source": [
    "def estimate_label(x):\n",
    "    h = int(x.duration > DURATION_THRESHOLD) + int((x.page_freq / (x.img_freq + EPSILON)) >= 10)\n",
    "    return int(x.is_bot or x.has_robots or h >= 2)"
   ]
  },
  {
   "cell_type": "code",
   "execution_count": 28,
   "metadata": {
    "scrolled": true
   },
   "outputs": [
    {
     "data": {
      "text/plain": [
       "(32121, 690)"
      ]
     },
     "execution_count": 28,
     "metadata": {},
     "output_type": "execute_result"
    }
   ],
   "source": [
    "labels = res.apply(estimate_label, axis=1)\n",
    "len(labels), sum(labels)"
   ]
  },
  {
   "cell_type": "code",
   "execution_count": 29,
   "metadata": {},
   "outputs": [],
   "source": [
    "scores = np.load('scores.npy')"
   ]
  },
  {
   "cell_type": "code",
   "execution_count": 46,
   "metadata": {},
   "outputs": [
    {
     "data": {
      "text/plain": [
       "array([0, 0, 0, ..., 0, 0, 0])"
      ]
     },
     "execution_count": 46,
     "metadata": {},
     "output_type": "execute_result"
    }
   ],
   "source": [
    "(scores[:,0] > 5.5).astype(int)"
   ]
  },
  {
   "cell_type": "code",
   "execution_count": 55,
   "metadata": {},
   "outputs": [
    {
     "data": {
      "text/plain": [
       "212"
      ]
     },
     "execution_count": 55,
     "metadata": {},
     "output_type": "execute_result"
    }
   ],
   "source": [
    "sum(labels & (scores[:,0] > 5.13).astype(int))"
   ]
  },
  {
   "cell_type": "markdown",
   "metadata": {},
   "source": [
    "## Actual Label"
   ]
  },
  {
   "cell_type": "code",
   "execution_count": 95,
   "metadata": {},
   "outputs": [
    {
     "data": {
      "text/plain": [
       "(32121, 689)"
      ]
     },
     "execution_count": 95,
     "metadata": {},
     "output_type": "execute_result"
    }
   ],
   "source": [
    "def get_actual_label(x):\n",
    "    return int('bot' in x.session_ua or 'Berry' in x.session_ua or 'Go-http-client' in x.session_ua or 'Python-urllib/3.7' in x.session_ua or 'python-requests/2.18.1' in x.session_ua)\n",
    "\n",
    "actual_labels = res.apply(get_actual_label, axis=1)\n",
    "len(actual_labels), sum(actual_labels)"
   ]
  },
  {
   "cell_type": "markdown",
   "metadata": {},
   "source": [
    "## Evaluate Model"
   ]
  },
  {
   "cell_type": "code",
   "execution_count": 119,
   "metadata": {},
   "outputs": [
    {
     "name": "stdout",
     "output_type": "stream",
     "text": [
      "precision: 0.9033280507131537\n",
      "recall: 0.8272859216255443\n",
      "accuracy: 0.994396189408798\n"
     ]
    }
   ],
   "source": [
    "threshold = 5.1\n",
    "preds = (scores[:,0] > threshold).astype(int)\n",
    "print('precision:', sum(actual_labels & preds) / sum(preds))\n",
    "print('recall:', sum(actual_labels & preds) / sum(actual_labels))\n",
    "print('accuracy:', sum(actual_labels == preds) / len(actual_labels))"
   ]
  },
  {
   "cell_type": "code",
   "execution_count": 98,
   "metadata": {},
   "outputs": [],
   "source": [
    "probably_anomalies = res[labels == 1]"
   ]
  },
  {
   "cell_type": "code",
   "execution_count": 99,
   "metadata": {},
   "outputs": [
    {
     "data": {
      "text/plain": [
       "0        1\n",
       "1        1\n",
       "2        1\n",
       "3        1\n",
       "4        1\n",
       "        ..\n",
       "32116    0\n",
       "32117    0\n",
       "32118    0\n",
       "32119    0\n",
       "32120    1\n",
       "Length: 32121, dtype: int64"
      ]
     },
     "execution_count": 99,
     "metadata": {},
     "output_type": "execute_result"
    }
   ],
   "source": [
    "labels = labels.reset_index(drop=True)\n",
    "labels"
   ]
  },
  {
   "cell_type": "code",
   "execution_count": 100,
   "metadata": {},
   "outputs": [
    {
     "data": {
      "text/html": [
       "<div>\n",
       "<style scoped>\n",
       "    .dataframe tbody tr th:only-of-type {\n",
       "        vertical-align: middle;\n",
       "    }\n",
       "\n",
       "    .dataframe tbody tr th {\n",
       "        vertical-align: top;\n",
       "    }\n",
       "\n",
       "    .dataframe thead th {\n",
       "        text-align: right;\n",
       "    }\n",
       "</style>\n",
       "<table border=\"1\" class=\"dataframe\">\n",
       "  <thead>\n",
       "    <tr style=\"text-align: right;\">\n",
       "      <th></th>\n",
       "      <th>0</th>\n",
       "      <th>1</th>\n",
       "      <th>2</th>\n",
       "      <th>3</th>\n",
       "      <th>4</th>\n",
       "      <th>5</th>\n",
       "      <th>6</th>\n",
       "      <th>7</th>\n",
       "      <th>8</th>\n",
       "      <th>9</th>\n",
       "      <th>class</th>\n",
       "    </tr>\n",
       "  </thead>\n",
       "  <tbody>\n",
       "    <tr>\n",
       "      <th>0</th>\n",
       "      <td>0.0</td>\n",
       "      <td>0.000508</td>\n",
       "      <td>0.000000</td>\n",
       "      <td>0.0</td>\n",
       "      <td>0.0</td>\n",
       "      <td>0.0</td>\n",
       "      <td>0.0</td>\n",
       "      <td>0.027392</td>\n",
       "      <td>1.0</td>\n",
       "      <td>0.000235</td>\n",
       "      <td>1</td>\n",
       "    </tr>\n",
       "    <tr>\n",
       "      <th>1</th>\n",
       "      <td>0.0</td>\n",
       "      <td>0.006520</td>\n",
       "      <td>0.006289</td>\n",
       "      <td>0.0</td>\n",
       "      <td>0.0</td>\n",
       "      <td>0.0</td>\n",
       "      <td>0.0</td>\n",
       "      <td>0.177235</td>\n",
       "      <td>1.0</td>\n",
       "      <td>0.000353</td>\n",
       "      <td>1</td>\n",
       "    </tr>\n",
       "    <tr>\n",
       "      <th>2</th>\n",
       "      <td>0.0</td>\n",
       "      <td>0.000339</td>\n",
       "      <td>0.230769</td>\n",
       "      <td>0.0</td>\n",
       "      <td>0.0</td>\n",
       "      <td>0.0</td>\n",
       "      <td>0.0</td>\n",
       "      <td>0.000221</td>\n",
       "      <td>1.0</td>\n",
       "      <td>0.022194</td>\n",
       "      <td>1</td>\n",
       "    </tr>\n",
       "    <tr>\n",
       "      <th>3</th>\n",
       "      <td>0.0</td>\n",
       "      <td>0.000085</td>\n",
       "      <td>0.000000</td>\n",
       "      <td>0.0</td>\n",
       "      <td>0.0</td>\n",
       "      <td>0.0</td>\n",
       "      <td>0.0</td>\n",
       "      <td>0.025126</td>\n",
       "      <td>1.0</td>\n",
       "      <td>0.000090</td>\n",
       "      <td>1</td>\n",
       "    </tr>\n",
       "    <tr>\n",
       "      <th>4</th>\n",
       "      <td>0.0</td>\n",
       "      <td>0.000169</td>\n",
       "      <td>0.333333</td>\n",
       "      <td>0.0</td>\n",
       "      <td>0.0</td>\n",
       "      <td>0.0</td>\n",
       "      <td>0.0</td>\n",
       "      <td>0.029825</td>\n",
       "      <td>1.0</td>\n",
       "      <td>0.000100</td>\n",
       "      <td>1</td>\n",
       "    </tr>\n",
       "  </tbody>\n",
       "</table>\n",
       "</div>"
      ],
      "text/plain": [
       "     0         1         2    3    4    5    6         7    8         9  class\n",
       "0  0.0  0.000508  0.000000  0.0  0.0  0.0  0.0  0.027392  1.0  0.000235      1\n",
       "1  0.0  0.006520  0.006289  0.0  0.0  0.0  0.0  0.177235  1.0  0.000353      1\n",
       "2  0.0  0.000339  0.230769  0.0  0.0  0.0  0.0  0.000221  1.0  0.022194      1\n",
       "3  0.0  0.000085  0.000000  0.0  0.0  0.0  0.0  0.025126  1.0  0.000090      1\n",
       "4  0.0  0.000169  0.333333  0.0  0.0  0.0  0.0  0.029825  1.0  0.000100      1"
      ]
     },
     "execution_count": 100,
     "metadata": {},
     "output_type": "execute_result"
    }
   ],
   "source": [
    "train_normalized['class'] = labels\n",
    "train_normalized.head()"
   ]
  },
  {
   "cell_type": "code",
   "execution_count": 103,
   "metadata": {},
   "outputs": [],
   "source": [
    "train_normalized.to_csv('ds.csv', index=False)"
   ]
  },
  {
   "cell_type": "code",
   "execution_count": 104,
   "metadata": {},
   "outputs": [
    {
     "data": {
      "text/plain": [
       "head_freq         -0.003939\n",
       "img_freq           0.068172\n",
       "page_freq          0.032962\n",
       "status_4xx_freq   -0.013692\n",
       "is_bot             0.102038\n",
       "dtype: float64"
      ]
     },
     "execution_count": 104,
     "metadata": {},
     "output_type": "execute_result"
    }
   ],
   "source": [
    "res.corrwith(labels)"
   ]
  },
  {
   "cell_type": "markdown",
   "metadata": {},
   "source": [
    "## Variable Quantization"
   ]
  },
  {
   "cell_type": "code",
   "execution_count": 338,
   "metadata": {},
   "outputs": [],
   "source": [
    "def get_threshold_for_quantization(feature_vector, labels):\n",
    "    scale = (feature_vector.max() - feature_vector.min())\n",
    "    m = 0\n",
    "    threshold = -1\n",
    "    for i in range(1,50):\n",
    "        i = i/50\n",
    "        i = i*scale + feature_vector.min()\n",
    "        ig = mutual_info_classif((feature_vector > i).astype(int).values.reshape(-1, 1), \n",
    "                                 labels)\n",
    "        if ig > m:\n",
    "            m = ig\n",
    "            threshold = i\n",
    "    return threshold, m"
   ]
  },
  {
   "cell_type": "code",
   "execution_count": 339,
   "metadata": {},
   "outputs": [
    {
     "name": "stdout",
     "output_type": "stream",
     "text": [
      "req_num threshold: 0.0 ,information gain: [0.00172437]\n",
      "img_freq threshold: 0.38 ,information gain: [0.02348947]\n",
      "page_freq threshold: 0.32 ,information gain: [0.01210203]\n",
      "max_click_rate threshold: 0.58 ,information gain: [0.01081792]\n",
      "duration threshold: 0.0 ,information gain: [0.00164374]\n",
      "req_freq threshold: 0.0 ,information gain: [0.00205998]\n"
     ]
    }
   ],
   "source": [
    "t, m = get_threshold_for_quantization(res.req_num, labels)\n",
    "print('req_num threshold:', t, ',information gain:', m)\n",
    "\n",
    "t, m = get_threshold_for_quantization(res.img_freq, labels)\n",
    "print('img_freq threshold:', t, ',information gain:', m)\n",
    "\n",
    "t, m = get_threshold_for_quantization(res.page_freq, labels)\n",
    "print('page_freq threshold:', t, ',information gain:', m)\n",
    "\n",
    "t, m = get_threshold_for_quantization(res.max_click_rate, labels)\n",
    "print('max_click_rate threshold:', t, ',information gain:', m)\n",
    "\n",
    "t, m = get_threshold_for_quantization(res.duration, labels)\n",
    "print('duration threshold:', t, ',information gain:', m)\n",
    "\n",
    "t, m = get_threshold_for_quantization(res.req_freq, labels)\n",
    "print('req_freq threshold:', t, ',information gain:', m)"
   ]
  },
  {
   "cell_type": "code",
   "execution_count": 80,
   "metadata": {},
   "outputs": [],
   "source": [
    "res.req_num = (res.req_num > 477.36).astype(int)\n",
    "res.img_freq = (res.img_freq < 0.12).astype(int)\n",
    "res.page_freq = (res.page_freq > 0.04).astype(int)\n",
    "res.max_click_rate = (res.max_click_rate > 0.72).astype(int)\n",
    "res.duration = (res.duration > 724.56).astype(int)\n",
    "res.req_freq = (res.req_freq > 1.3).astype(int)"
   ]
  },
  {
   "cell_type": "code",
   "execution_count": 81,
   "metadata": {},
   "outputs": [
    {
     "data": {
      "text/plain": [
       "<BarContainer object of 2 artists>"
      ]
     },
     "execution_count": 81,
     "metadata": {},
     "output_type": "execute_result"
    },
    {
     "data": {
      "image/png": "[encoded data removed]",
      "text/plain": [
       "<Figure size 432x288 with 1 Axes>"
      ]
     },
     "metadata": {
      "needs_background": "light"
     },
     "output_type": "display_data"
    }
   ],
   "source": [
    "plt.bar(['Normal','Anomaly'], [sum(1-labels), sum(labels)])"
   ]
  },
  {
   "cell_type": "code",
   "execution_count": 346,
   "metadata": {},
   "outputs": [],
   "source": [
    "X_train, X_test, y_train, y_test = train_test_split(res[['req_num', 'img_freq', 'page_freq', 'max_click_rate', 'duration', 'is_bot', 'req_freq']]\n",
    "                                                    , labels)"
   ]
  },
  {
   "cell_type": "code",
   "execution_count": 364,
   "metadata": {},
   "outputs": [
    {
     "data": {
      "text/plain": [
       "((1000, 7), (8031, 7))"
      ]
     },
     "execution_count": 364,
     "metadata": {},
     "output_type": "execute_result"
    }
   ],
   "source": [
    "X_train.shape, X_test.shape"
   ]
  },
  {
   "cell_type": "code",
   "execution_count": 348,
   "metadata": {},
   "outputs": [
    {
     "data": {
      "text/plain": [
       "BernoulliNB()"
      ]
     },
     "execution_count": 348,
     "metadata": {},
     "output_type": "execute_result"
    }
   ],
   "source": [
    "from sklearn.naive_bayes import BernoulliNB\n",
    "\n",
    "clf = BernoulliNB()\n",
    "clf.fit(X_train, y_train)"
   ]
  },
  {
   "cell_type": "code",
   "execution_count": 349,
   "metadata": {},
   "outputs": [
    {
     "name": "stdout",
     "output_type": "stream",
     "text": [
      "precision: 1.0\n"
     ]
    },
    {
     "data": {
      "text/plain": [
       "(133, 1.0)"
      ]
     },
     "execution_count": 349,
     "metadata": {},
     "output_type": "execute_result"
    }
   ],
   "source": [
    "preds = clf.predict_proba(X_test)\n",
    "preds = preds[:,1] >= 0.8\n",
    "print(\"precision:\", sum(preds & y_test) / sum(preds))\n",
    "sum(preds), sum(preds == y_test) / len(y_test)"
   ]
  },
  {
   "cell_type": "code",
   "execution_count": null,
   "metadata": {},
   "outputs": [],
   "source": []
  },
  {
   "cell_type": "code",
   "execution_count": 350,
   "metadata": {},
   "outputs": [],
   "source": [
    "X = res[['req_num', 'img_freq', 'page_freq', 'max_click_rate', 'duration', 'is_bot', 'req_freq']]"
   ]
  },
  {
   "cell_type": "code",
   "execution_count": 351,
   "metadata": {},
   "outputs": [],
   "source": [
    "preds = clf.predict_proba(X)"
   ]
  },
  {
   "cell_type": "code",
   "execution_count": 352,
   "metadata": {},
   "outputs": [],
   "source": [
    "true_preds_idx = np.argpartition(preds[:,1], -550)[-550:]\n",
    "false_preds_idx = np.argpartition(preds[:,1], 550)[:550]"
   ]
  },
  {
   "cell_type": "code",
   "execution_count": 353,
   "metadata": {},
   "outputs": [
    {
     "data": {
      "text/plain": [
       "550"
      ]
     },
     "execution_count": 353,
     "metadata": {},
     "output_type": "execute_result"
    }
   ],
   "source": [
    "X = X.values[np.concatenate((true_preds_idx,false_preds_idx))]\n",
    "y = clf.predict(X)\n",
    "sum(y)"
   ]
  },
  {
   "cell_type": "code",
   "execution_count": 354,
   "metadata": {},
   "outputs": [
    {
     "data": {
      "text/plain": [
       "(1000, 7)"
      ]
     },
     "execution_count": 354,
     "metadata": {},
     "output_type": "execute_result"
    }
   ],
   "source": [
    "X_train, y_train, = train_test_split(X, test_size=5/55)\n",
    "X_train.shape"
   ]
  },
  {
   "cell_type": "code",
   "execution_count": 355,
   "metadata": {},
   "outputs": [],
   "source": [
    "# from sklearn.ensemble import RandomForestClassifier\n",
    "# from sklearn.datasets import make_classification\n",
    "\n",
    "# clf = RandomForestClassifier(max_depth=4, random_state=0)\n",
    "# clf.fit(X, y)"
   ]
  },
  {
   "cell_type": "code",
   "execution_count": 356,
   "metadata": {},
   "outputs": [
    {
     "data": {
      "text/plain": [
       "SVC(gamma='auto')"
      ]
     },
     "execution_count": 356,
     "metadata": {},
     "output_type": "execute_result"
    }
   ],
   "source": [
    "from sklearn.svm import SVC\n",
    "clf = SVC(gamma='auto')\n",
    "clf.fit(X, y)"
   ]
  },
  {
   "cell_type": "code",
   "execution_count": 359,
   "metadata": {},
   "outputs": [
    {
     "data": {
      "text/plain": [
       "DecisionTreeClassifier(random_state=0)"
      ]
     },
     "execution_count": 359,
     "metadata": {},
     "output_type": "execute_result"
    }
   ],
   "source": [
    "from sklearn.model_selection import cross_val_score\n",
    "from sklearn.tree import DecisionTreeClassifier\n",
    "clf = DecisionTreeClassifier(random_state=0)\n",
    "cross_val_score(clf, X, y, cv=10)\n",
    "clf.fit(X, y)"
   ]
  },
  {
   "cell_type": "code",
   "execution_count": 362,
   "metadata": {},
   "outputs": [],
   "source": [
    "p = clf.predict(res[['req_num', 'img_freq', 'page_freq', 'max_click_rate', 'duration', 'is_bot', 'req_freq']])"
   ]
  },
  {
   "cell_type": "code",
   "execution_count": 363,
   "metadata": {},
   "outputs": [
    {
     "data": {
      "text/plain": [
       "1.0"
      ]
     },
     "execution_count": 363,
     "metadata": {},
     "output_type": "execute_result"
    }
   ],
   "source": [
    "from sklearn.metrics import accuracy_score\n",
    "\n",
    "accuracy_score(labels, p)"
   ]
  },
  {
   "cell_type": "code",
   "execution_count": null,
   "metadata": {},
   "outputs": [],
   "source": []
  },
  {
   "cell_type": "markdown",
   "metadata": {
    "id": "daEJRwzUvWt4"
   },
   "source": [
    "# Preview data"
   ]
  },
  {
   "cell_type": "code",
   "execution_count": 51,
   "metadata": {
    "colab": {
     "base_uri": "https://localhost:8080/",
     "height": 204
    },
    "id": "T_B3cxSIcayc",
    "outputId": "cd665b26-2091-481e-f971-9b73fa25d265",
    "scrolled": true
   },
   "outputs": [
    {
     "data": {
      "text/html": [
       "<div>\n",
       "<style scoped>\n",
       "    .dataframe tbody tr th:only-of-type {\n",
       "        vertical-align: middle;\n",
       "    }\n",
       "\n",
       "    .dataframe tbody tr th {\n",
       "        vertical-align: top;\n",
       "    }\n",
       "\n",
       "    .dataframe thead th {\n",
       "        text-align: right;\n",
       "    }\n",
       "</style>\n",
       "<table border=\"1\" class=\"dataframe\">\n",
       "  <thead>\n",
       "    <tr style=\"text-align: right;\">\n",
       "      <th></th>\n",
       "      <th>datetime</th>\n",
       "      <th>http_user_agent</th>\n",
       "      <th>ip</th>\n",
       "      <th>status_code</th>\n",
       "      <th>request_length</th>\n",
       "      <th>request_time</th>\n",
       "      <th>http_method</th>\n",
       "      <th>url</th>\n",
       "    </tr>\n",
       "  </thead>\n",
       "  <tbody>\n",
       "    <tr>\n",
       "      <th>0</th>\n",
       "      <td>2021-05-12 05:06:00+04:30</td>\n",
       "      <td>Googlebot-Image/1.0</td>\n",
       "      <td>207.213.193.143</td>\n",
       "      <td>304</td>\n",
       "      <td>0</td>\n",
       "      <td>32</td>\n",
       "      <td>Get</td>\n",
       "      <td>/cdn/profiles/1026106239</td>\n",
       "    </tr>\n",
       "    <tr>\n",
       "      <th>1</th>\n",
       "      <td>2021-05-12 05:06:00+04:30</td>\n",
       "      <td>Googlebot-Image/1.0</td>\n",
       "      <td>207.213.193.143</td>\n",
       "      <td>304</td>\n",
       "      <td>0</td>\n",
       "      <td>4</td>\n",
       "      <td>Get</td>\n",
       "      <td>images/badge.png</td>\n",
       "    </tr>\n",
       "    <tr>\n",
       "      <th>2</th>\n",
       "      <td>2021-05-12 05:06:00+04:30</td>\n",
       "      <td>Mozilla/5.0 (Linux; Android 6.0.1; SAMSUNG SM-...</td>\n",
       "      <td>35.110.222.153</td>\n",
       "      <td>200</td>\n",
       "      <td>52567</td>\n",
       "      <td>32</td>\n",
       "      <td>Get</td>\n",
       "      <td>/pages/630180847</td>\n",
       "    </tr>\n",
       "    <tr>\n",
       "      <th>3</th>\n",
       "      <td>2021-05-12 05:06:00+04:30</td>\n",
       "      <td>Mozilla/5.0 (Linux; Android 6.0; CAM-L21) Appl...</td>\n",
       "      <td>35.108.208.99</td>\n",
       "      <td>200</td>\n",
       "      <td>23531</td>\n",
       "      <td>20</td>\n",
       "      <td>Get</td>\n",
       "      <td>images/fav_icon2.ico</td>\n",
       "    </tr>\n",
       "    <tr>\n",
       "      <th>4</th>\n",
       "      <td>2021-05-12 05:06:00+04:30</td>\n",
       "      <td>Mozilla/5.0 (Linux; Android 6.0.1; SAMSUNG SM-...</td>\n",
       "      <td>35.110.222.153</td>\n",
       "      <td>200</td>\n",
       "      <td>4680</td>\n",
       "      <td>8</td>\n",
       "      <td>Get</td>\n",
       "      <td>images/sanjagh_logo_purpule5.png</td>\n",
       "    </tr>\n",
       "  </tbody>\n",
       "</table>\n",
       "</div>"
      ],
      "text/plain": [
       "                   datetime  \\\n",
       "0 2021-05-12 05:06:00+04:30   \n",
       "1 2021-05-12 05:06:00+04:30   \n",
       "2 2021-05-12 05:06:00+04:30   \n",
       "3 2021-05-12 05:06:00+04:30   \n",
       "4 2021-05-12 05:06:00+04:30   \n",
       "\n",
       "                                     http_user_agent               ip  \\\n",
       "0                                Googlebot-Image/1.0  207.213.193.143   \n",
       "1                                Googlebot-Image/1.0  207.213.193.143   \n",
       "2  Mozilla/5.0 (Linux; Android 6.0.1; SAMSUNG SM-...   35.110.222.153   \n",
       "3  Mozilla/5.0 (Linux; Android 6.0; CAM-L21) Appl...    35.108.208.99   \n",
       "4  Mozilla/5.0 (Linux; Android 6.0.1; SAMSUNG SM-...   35.110.222.153   \n",
       "\n",
       "   status_code request_length request_time http_method  \\\n",
       "0          304              0           32         Get   \n",
       "1          304              0            4         Get   \n",
       "2          200          52567           32         Get   \n",
       "3          200          23531           20         Get   \n",
       "4          200           4680            8         Get   \n",
       "\n",
       "                                url  \n",
       "0          /cdn/profiles/1026106239  \n",
       "1                  images/badge.png  \n",
       "2                  /pages/630180847  \n",
       "3              images/fav_icon2.ico  \n",
       "4  images/sanjagh_logo_purpule5.png  "
      ]
     },
     "execution_count": 51,
     "metadata": {},
     "output_type": "execute_result"
    }
   ],
   "source": [
    "train.head()"
   ]
  },
  {
   "cell_type": "code",
   "execution_count": 52,
   "metadata": {
    "colab": {
     "base_uri": "https://localhost:8080/",
     "height": 297
    },
    "id": "g8I-di7Tcleu",
    "outputId": "33b224fd-09e6-4908-fc20-127e9b702fc2"
   },
   "outputs": [
    {
     "data": {
      "text/html": [
       "<div>\n",
       "<style scoped>\n",
       "    .dataframe tbody tr th:only-of-type {\n",
       "        vertical-align: middle;\n",
       "    }\n",
       "\n",
       "    .dataframe tbody tr th {\n",
       "        vertical-align: top;\n",
       "    }\n",
       "\n",
       "    .dataframe thead th {\n",
       "        text-align: right;\n",
       "    }\n",
       "</style>\n",
       "<table border=\"1\" class=\"dataframe\">\n",
       "  <thead>\n",
       "    <tr style=\"text-align: right;\">\n",
       "      <th></th>\n",
       "      <th>status_code</th>\n",
       "    </tr>\n",
       "  </thead>\n",
       "  <tbody>\n",
       "    <tr>\n",
       "      <th>count</th>\n",
       "      <td>1.260035e+06</td>\n",
       "    </tr>\n",
       "    <tr>\n",
       "      <th>mean</th>\n",
       "      <td>2.313682e+02</td>\n",
       "    </tr>\n",
       "    <tr>\n",
       "      <th>std</th>\n",
       "      <td>5.804793e+01</td>\n",
       "    </tr>\n",
       "    <tr>\n",
       "      <th>min</th>\n",
       "      <td>1.010000e+02</td>\n",
       "    </tr>\n",
       "    <tr>\n",
       "      <th>25%</th>\n",
       "      <td>2.000000e+02</td>\n",
       "    </tr>\n",
       "    <tr>\n",
       "      <th>50%</th>\n",
       "      <td>2.000000e+02</td>\n",
       "    </tr>\n",
       "    <tr>\n",
       "      <th>75%</th>\n",
       "      <td>3.040000e+02</td>\n",
       "    </tr>\n",
       "    <tr>\n",
       "      <th>max</th>\n",
       "      <td>5.030000e+02</td>\n",
       "    </tr>\n",
       "  </tbody>\n",
       "</table>\n",
       "</div>"
      ],
      "text/plain": [
       "        status_code\n",
       "count  1.260035e+06\n",
       "mean   2.313682e+02\n",
       "std    5.804793e+01\n",
       "min    1.010000e+02\n",
       "25%    2.000000e+02\n",
       "50%    2.000000e+02\n",
       "75%    3.040000e+02\n",
       "max    5.030000e+02"
      ]
     },
     "execution_count": 52,
     "metadata": {},
     "output_type": "execute_result"
    }
   ],
   "source": [
    "train.describe()"
   ]
  },
  {
   "cell_type": "code",
   "execution_count": 13,
   "metadata": {
    "colab": {
     "base_uri": "https://localhost:8080/"
    },
    "id": "3ZaqoWDCsAM9",
    "outputId": "a3a9d159-e40a-4049-c298-eb065909d6f3"
   },
   "outputs": [
    {
     "name": "stdout",
     "output_type": "stream",
     "text": [
      "<class 'pandas.core.frame.DataFrame'>\n",
      "RangeIndex: 1260035 entries, 0 to 1260034\n",
      "Data columns (total 8 columns):\n",
      " #   Column           Non-Null Count    Dtype                                \n",
      "---  ------           --------------    -----                                \n",
      " 0   datetime         1260035 non-null  datetime64[ns, pytz.FixedOffset(270)]\n",
      " 1   http_user_agent  1260035 non-null  object                               \n",
      " 2   ip               1260035 non-null  object                               \n",
      " 3   status_code      1260035 non-null  int64                                \n",
      " 4   request_length   1260035 non-null  int64                                \n",
      " 5   request_time     1260035 non-null  object                               \n",
      " 6   http_method      1260035 non-null  object                               \n",
      " 7   url              1260035 non-null  object                               \n",
      "dtypes: datetime64[ns, pytz.FixedOffset(270)](1), int64(2), object(5)\n",
      "memory usage: 76.9+ MB\n"
     ]
    }
   ],
   "source": [
    "train.info()"
   ]
  },
  {
   "cell_type": "markdown",
   "metadata": {
    "id": "GCvSuf8j3aCC"
   },
   "source": [
    "# Visualize"
   ]
  },
  {
   "cell_type": "code",
   "execution_count": 14,
   "metadata": {
    "colab": {
     "base_uri": "https://localhost:8080/",
     "height": 204
    },
    "id": "FFZkMahSPEuG",
    "outputId": "f1887275-c64a-480f-f0d8-0e7bb6e5d128"
   },
   "outputs": [
    {
     "data": {
      "text/html": [
       "<div>\n",
       "<style scoped>\n",
       "    .dataframe tbody tr th:only-of-type {\n",
       "        vertical-align: middle;\n",
       "    }\n",
       "\n",
       "    .dataframe tbody tr th {\n",
       "        vertical-align: top;\n",
       "    }\n",
       "\n",
       "    .dataframe thead th {\n",
       "        text-align: right;\n",
       "    }\n",
       "</style>\n",
       "<table border=\"1\" class=\"dataframe\">\n",
       "  <thead>\n",
       "    <tr style=\"text-align: right;\">\n",
       "      <th></th>\n",
       "      <th>datetime</th>\n",
       "      <th>http_user_agent</th>\n",
       "      <th>ip</th>\n",
       "      <th>status_code</th>\n",
       "      <th>request_length</th>\n",
       "      <th>request_time</th>\n",
       "      <th>http_method</th>\n",
       "      <th>url</th>\n",
       "    </tr>\n",
       "  </thead>\n",
       "  <tbody>\n",
       "    <tr>\n",
       "      <th>0</th>\n",
       "      <td>2021-05-12 05:06:00+04:30</td>\n",
       "      <td>[Googlebot-Image/1.0]</td>\n",
       "      <td>207.213.193.143</td>\n",
       "      <td>304</td>\n",
       "      <td>0</td>\n",
       "      <td>32</td>\n",
       "      <td>Get</td>\n",
       "      <td>/cdn/profiles/1026106239</td>\n",
       "    </tr>\n",
       "    <tr>\n",
       "      <th>1</th>\n",
       "      <td>2021-05-12 05:06:00+04:30</td>\n",
       "      <td>[Googlebot-Image/1.0]</td>\n",
       "      <td>207.213.193.143</td>\n",
       "      <td>304</td>\n",
       "      <td>0</td>\n",
       "      <td>4</td>\n",
       "      <td>Get</td>\n",
       "      <td>images/badge.png</td>\n",
       "    </tr>\n",
       "    <tr>\n",
       "      <th>2</th>\n",
       "      <td>2021-05-12 05:06:00+04:30</td>\n",
       "      <td>[[Linux, Android 6.0.1, SAMSUNG SM-J710GN Buil...</td>\n",
       "      <td>35.110.222.153</td>\n",
       "      <td>200</td>\n",
       "      <td>52567</td>\n",
       "      <td>32</td>\n",
       "      <td>Get</td>\n",
       "      <td>/pages/630180847</td>\n",
       "    </tr>\n",
       "    <tr>\n",
       "      <th>3</th>\n",
       "      <td>2021-05-12 05:06:00+04:30</td>\n",
       "      <td>[[Linux, Android 6.0, CAM-L21], [KHTML, like G...</td>\n",
       "      <td>35.108.208.99</td>\n",
       "      <td>200</td>\n",
       "      <td>23531</td>\n",
       "      <td>20</td>\n",
       "      <td>Get</td>\n",
       "      <td>images/fav_icon2.ico</td>\n",
       "    </tr>\n",
       "    <tr>\n",
       "      <th>4</th>\n",
       "      <td>2021-05-12 05:06:00+04:30</td>\n",
       "      <td>[[Linux, Android 6.0.1, SAMSUNG SM-J710GN Buil...</td>\n",
       "      <td>35.110.222.153</td>\n",
       "      <td>200</td>\n",
       "      <td>4680</td>\n",
       "      <td>8</td>\n",
       "      <td>Get</td>\n",
       "      <td>images/sanjagh_logo_purpule5.png</td>\n",
       "    </tr>\n",
       "  </tbody>\n",
       "</table>\n",
       "</div>"
      ],
      "text/plain": [
       "                   datetime  \\\n",
       "0 2021-05-12 05:06:00+04:30   \n",
       "1 2021-05-12 05:06:00+04:30   \n",
       "2 2021-05-12 05:06:00+04:30   \n",
       "3 2021-05-12 05:06:00+04:30   \n",
       "4 2021-05-12 05:06:00+04:30   \n",
       "\n",
       "                                     http_user_agent               ip  \\\n",
       "0                              [Googlebot-Image/1.0]  207.213.193.143   \n",
       "1                              [Googlebot-Image/1.0]  207.213.193.143   \n",
       "2  [[Linux, Android 6.0.1, SAMSUNG SM-J710GN Buil...   35.110.222.153   \n",
       "3  [[Linux, Android 6.0, CAM-L21], [KHTML, like G...    35.108.208.99   \n",
       "4  [[Linux, Android 6.0.1, SAMSUNG SM-J710GN Buil...   35.110.222.153   \n",
       "\n",
       "   status_code  request_length request_time http_method  \\\n",
       "0          304               0           32         Get   \n",
       "1          304               0            4         Get   \n",
       "2          200           52567           32         Get   \n",
       "3          200           23531           20         Get   \n",
       "4          200            4680            8         Get   \n",
       "\n",
       "                                url  \n",
       "0          /cdn/profiles/1026106239  \n",
       "1                  images/badge.png  \n",
       "2                  /pages/630180847  \n",
       "3              images/fav_icon2.ico  \n",
       "4  images/sanjagh_logo_purpule5.png  "
      ]
     },
     "execution_count": 14,
     "metadata": {},
     "output_type": "execute_result"
    }
   ],
   "source": [
    "train.head()"
   ]
  },
  {
   "cell_type": "markdown",
   "metadata": {},
   "source": [
    "### IP : User Agent"
   ]
  },
  {
   "cell_type": "code",
   "execution_count": 15,
   "metadata": {},
   "outputs": [
    {
     "name": "stdout",
     "output_type": "stream",
     "text": [
      "18090\n"
     ]
    },
    {
     "data": {
      "text/html": [
       "<div>\n",
       "<style scoped>\n",
       "    .dataframe tbody tr th:only-of-type {\n",
       "        vertical-align: middle;\n",
       "    }\n",
       "\n",
       "    .dataframe tbody tr th {\n",
       "        vertical-align: top;\n",
       "    }\n",
       "\n",
       "    .dataframe thead th {\n",
       "        text-align: right;\n",
       "    }\n",
       "</style>\n",
       "<table border=\"1\" class=\"dataframe\">\n",
       "  <thead>\n",
       "    <tr style=\"text-align: right;\">\n",
       "      <th></th>\n",
       "      <th>datetime</th>\n",
       "      <th>http_user_agent</th>\n",
       "      <th>ip</th>\n",
       "      <th>status_code</th>\n",
       "      <th>request_length</th>\n",
       "      <th>request_time</th>\n",
       "      <th>http_method</th>\n",
       "      <th>url</th>\n",
       "    </tr>\n",
       "  </thead>\n",
       "  <tbody>\n",
       "    <tr>\n",
       "      <th>25</th>\n",
       "      <td>2021-05-12 05:06:01+04:30</td>\n",
       "      <td>[kube-probe/1.21]</td>\n",
       "      <td>-</td>\n",
       "      <td>301</td>\n",
       "      <td>169</td>\n",
       "      <td>-</td>\n",
       "      <td>Get</td>\n",
       "      <td>/</td>\n",
       "    </tr>\n",
       "    <tr>\n",
       "      <th>85</th>\n",
       "      <td>2021-05-12 05:06:03+04:30</td>\n",
       "      <td>[kube-probe/1.21]</td>\n",
       "      <td>-</td>\n",
       "      <td>301</td>\n",
       "      <td>169</td>\n",
       "      <td>-</td>\n",
       "      <td>Get</td>\n",
       "      <td>/</td>\n",
       "    </tr>\n",
       "    <tr>\n",
       "      <th>145</th>\n",
       "      <td>2021-05-12 05:06:05+04:30</td>\n",
       "      <td>[kube-probe/1.21]</td>\n",
       "      <td>-</td>\n",
       "      <td>301</td>\n",
       "      <td>169</td>\n",
       "      <td>-</td>\n",
       "      <td>Get</td>\n",
       "      <td>/</td>\n",
       "    </tr>\n",
       "    <tr>\n",
       "      <th>175</th>\n",
       "      <td>2021-05-12 05:06:07+04:30</td>\n",
       "      <td>[kube-probe/1.21]</td>\n",
       "      <td>-</td>\n",
       "      <td>301</td>\n",
       "      <td>169</td>\n",
       "      <td>-</td>\n",
       "      <td>Get</td>\n",
       "      <td>/</td>\n",
       "    </tr>\n",
       "    <tr>\n",
       "      <th>215</th>\n",
       "      <td>2021-05-12 05:06:09+04:30</td>\n",
       "      <td>[kube-probe/1.21]</td>\n",
       "      <td>-</td>\n",
       "      <td>301</td>\n",
       "      <td>169</td>\n",
       "      <td>-</td>\n",
       "      <td>Get</td>\n",
       "      <td>/</td>\n",
       "    </tr>\n",
       "  </tbody>\n",
       "</table>\n",
       "</div>"
      ],
      "text/plain": [
       "                     datetime    http_user_agent ip  status_code  \\\n",
       "25  2021-05-12 05:06:01+04:30  [kube-probe/1.21]  -          301   \n",
       "85  2021-05-12 05:06:03+04:30  [kube-probe/1.21]  -          301   \n",
       "145 2021-05-12 05:06:05+04:30  [kube-probe/1.21]  -          301   \n",
       "175 2021-05-12 05:06:07+04:30  [kube-probe/1.21]  -          301   \n",
       "215 2021-05-12 05:06:09+04:30  [kube-probe/1.21]  -          301   \n",
       "\n",
       "     request_length request_time http_method url  \n",
       "25              169            -         Get   /  \n",
       "85              169            -         Get   /  \n",
       "145             169            -         Get   /  \n",
       "175             169            -         Get   /  \n",
       "215             169            -         Get   /  "
      ]
     },
     "execution_count": 15,
     "metadata": {},
     "output_type": "execute_result"
    }
   ],
   "source": [
    "print(len(train[train.ip == '-']))\n",
    "train[train.ip == '-'].head()"
   ]
  },
  {
   "cell_type": "code",
   "execution_count": 16,
   "metadata": {},
   "outputs": [
    {
     "data": {
      "text/plain": [
       "True"
      ]
     },
     "execution_count": 16,
     "metadata": {},
     "output_type": "execute_result"
    }
   ],
   "source": [
    "len(train[train.ip == '-'] == train[[s == ['kube-probe/1.21'] for s in train.http_user_agent]]) == len(train[train.ip == '-'])"
   ]
  },
  {
   "cell_type": "markdown",
   "metadata": {},
   "source": [
    "### Status Code"
   ]
  },
  {
   "cell_type": "code",
   "execution_count": 17,
   "metadata": {},
   "outputs": [
    {
     "data": {
      "text/plain": [
       "200    765525\n",
       "304    400543\n",
       "101     61407\n",
       "301     19725\n",
       "307      7704\n",
       "404      2004\n",
       "499      1122\n",
       "400       652\n",
       "405       616\n",
       "401       599\n",
       "206        96\n",
       "413        17\n",
       "403        13\n",
       "503         5\n",
       "500         3\n",
       "408         3\n",
       "308         1\n",
       "Name: status_code, dtype: int64"
      ]
     },
     "execution_count": 17,
     "metadata": {},
     "output_type": "execute_result"
    }
   ],
   "source": [
    "train.status_code.value_counts()"
   ]
  },
  {
   "cell_type": "code",
   "execution_count": 18,
   "metadata": {},
   "outputs": [
    {
     "data": {
      "image/png": "[encoded data removed]",
      "text/plain": [
       "<Figure size 1080x432 with 2 Axes>"
      ]
     },
     "metadata": {
      "needs_background": "light"
     },
     "output_type": "display_data"
    }
   ],
   "source": [
    "status_counts = get_categorical_status_code_counts(train.status_code)\n",
    "status_labels = ['1xx','2xx','3xx','4xx','5xx']\n",
    "\n",
    "f, axes = plt.subplots(1,2, figsize=(15,6))\n",
    "\n",
    "axes[0].bar(status_labels, status_counts)\n",
    "_ = axes[1].pie(status_counts, labels=status_labels)"
   ]
  },
  {
   "cell_type": "markdown",
   "metadata": {
    "id": "zeIn27TxfUig"
   },
   "source": [
    "### Request Lenght"
   ]
  },
  {
   "cell_type": "code",
   "execution_count": 19,
   "metadata": {
    "colab": {
     "base_uri": "https://localhost:8080/"
    },
    "id": "6qVslzyTPSAr",
    "outputId": "a1ac99d4-5255-4fa5-f23d-8c4b38edf859"
   },
   "outputs": [
    {
     "data": {
      "text/plain": [
       "count    1.260035e+06\n",
       "mean     4.580962e+04\n",
       "std      3.350437e+05\n",
       "min      0.000000e+00\n",
       "25%      0.000000e+00\n",
       "50%      1.201000e+03\n",
       "75%      2.650500e+04\n",
       "max      1.022335e+08\n",
       "Name: request_length, dtype: float64"
      ]
     },
     "execution_count": 19,
     "metadata": {},
     "output_type": "execute_result"
    }
   ],
   "source": [
    "train.request_length.describe()"
   ]
  },
  {
   "cell_type": "code",
   "execution_count": 20,
   "metadata": {
    "colab": {
     "base_uri": "https://localhost:8080/",
     "height": 623
    },
    "id": "yUORxg4HbgfO",
    "outputId": "fea145b1-dfa5-4725-f1c3-4fdfeac042b2"
   },
   "outputs": [
    {
     "data": {
      "image/png": "[encoded data removed]",
      "text/plain": [
       "<Figure size 1080x720 with 2 Axes>"
      ]
     },
     "metadata": {
      "needs_background": "light"
     },
     "output_type": "display_data"
    }
   ],
   "source": [
    "f, axes = plt.subplots(2, figsize=(15,10))\n",
    "x = sns.boxplot(x=train.request_length, ax=axes[0])\n",
    "limited_x = sns.boxplot(x=train.request_length[train.request_length < 200000], ax=axes[1])\n",
    "x.set(xlabel='Request Lenght')\n",
    "_ = limited_x.set(xlabel='Request Lenght < 200000')"
   ]
  },
  {
   "cell_type": "markdown",
   "metadata": {
    "id": "wWwBS15HNnO6"
   },
   "source": [
    "### Request time"
   ]
  },
  {
   "cell_type": "code",
   "execution_count": 21,
   "metadata": {},
   "outputs": [
    {
     "data": {
      "text/html": [
       "<div>\n",
       "<style scoped>\n",
       "    .dataframe tbody tr th:only-of-type {\n",
       "        vertical-align: middle;\n",
       "    }\n",
       "\n",
       "    .dataframe tbody tr th {\n",
       "        vertical-align: top;\n",
       "    }\n",
       "\n",
       "    .dataframe thead th {\n",
       "        text-align: right;\n",
       "    }\n",
       "</style>\n",
       "<table border=\"1\" class=\"dataframe\">\n",
       "  <thead>\n",
       "    <tr style=\"text-align: right;\">\n",
       "      <th></th>\n",
       "      <th>datetime</th>\n",
       "      <th>http_user_agent</th>\n",
       "      <th>ip</th>\n",
       "      <th>status_code</th>\n",
       "      <th>request_length</th>\n",
       "      <th>request_time</th>\n",
       "      <th>http_method</th>\n",
       "      <th>url</th>\n",
       "    </tr>\n",
       "  </thead>\n",
       "  <tbody>\n",
       "    <tr>\n",
       "      <th>25</th>\n",
       "      <td>2021-05-12 05:06:01+04:30</td>\n",
       "      <td>[kube-probe/1.21]</td>\n",
       "      <td>-</td>\n",
       "      <td>301</td>\n",
       "      <td>169</td>\n",
       "      <td>-</td>\n",
       "      <td>Get</td>\n",
       "      <td>/</td>\n",
       "    </tr>\n",
       "    <tr>\n",
       "      <th>85</th>\n",
       "      <td>2021-05-12 05:06:03+04:30</td>\n",
       "      <td>[kube-probe/1.21]</td>\n",
       "      <td>-</td>\n",
       "      <td>301</td>\n",
       "      <td>169</td>\n",
       "      <td>-</td>\n",
       "      <td>Get</td>\n",
       "      <td>/</td>\n",
       "    </tr>\n",
       "    <tr>\n",
       "      <th>145</th>\n",
       "      <td>2021-05-12 05:06:05+04:30</td>\n",
       "      <td>[kube-probe/1.21]</td>\n",
       "      <td>-</td>\n",
       "      <td>301</td>\n",
       "      <td>169</td>\n",
       "      <td>-</td>\n",
       "      <td>Get</td>\n",
       "      <td>/</td>\n",
       "    </tr>\n",
       "    <tr>\n",
       "      <th>175</th>\n",
       "      <td>2021-05-12 05:06:07+04:30</td>\n",
       "      <td>[kube-probe/1.21]</td>\n",
       "      <td>-</td>\n",
       "      <td>301</td>\n",
       "      <td>169</td>\n",
       "      <td>-</td>\n",
       "      <td>Get</td>\n",
       "      <td>/</td>\n",
       "    </tr>\n",
       "    <tr>\n",
       "      <th>215</th>\n",
       "      <td>2021-05-12 05:06:09+04:30</td>\n",
       "      <td>[kube-probe/1.21]</td>\n",
       "      <td>-</td>\n",
       "      <td>301</td>\n",
       "      <td>169</td>\n",
       "      <td>-</td>\n",
       "      <td>Get</td>\n",
       "      <td>/</td>\n",
       "    </tr>\n",
       "  </tbody>\n",
       "</table>\n",
       "</div>"
      ],
      "text/plain": [
       "                     datetime    http_user_agent ip  status_code  \\\n",
       "25  2021-05-12 05:06:01+04:30  [kube-probe/1.21]  -          301   \n",
       "85  2021-05-12 05:06:03+04:30  [kube-probe/1.21]  -          301   \n",
       "145 2021-05-12 05:06:05+04:30  [kube-probe/1.21]  -          301   \n",
       "175 2021-05-12 05:06:07+04:30  [kube-probe/1.21]  -          301   \n",
       "215 2021-05-12 05:06:09+04:30  [kube-probe/1.21]  -          301   \n",
       "\n",
       "     request_length request_time http_method url  \n",
       "25              169            -         Get   /  \n",
       "85              169            -         Get   /  \n",
       "145             169            -         Get   /  \n",
       "175             169            -         Get   /  \n",
       "215             169            -         Get   /  "
      ]
     },
     "execution_count": 21,
     "metadata": {},
     "output_type": "execute_result"
    }
   ],
   "source": [
    "temp = train.copy().loc[train.request_time.apply(lambda x: not x.isnumeric())]\n",
    "temp.head()"
   ]
  },
  {
   "cell_type": "code",
   "execution_count": 22,
   "metadata": {},
   "outputs": [
    {
     "name": "stdout",
     "output_type": "stream",
     "text": [
      "1718\n"
     ]
    },
    {
     "data": {
      "text/html": [
       "<div>\n",
       "<style scoped>\n",
       "    .dataframe tbody tr th:only-of-type {\n",
       "        vertical-align: middle;\n",
       "    }\n",
       "\n",
       "    .dataframe tbody tr th {\n",
       "        vertical-align: top;\n",
       "    }\n",
       "\n",
       "    .dataframe thead th {\n",
       "        text-align: right;\n",
       "    }\n",
       "</style>\n",
       "<table border=\"1\" class=\"dataframe\">\n",
       "  <thead>\n",
       "    <tr style=\"text-align: right;\">\n",
       "      <th></th>\n",
       "      <th>datetime</th>\n",
       "      <th>http_user_agent</th>\n",
       "      <th>ip</th>\n",
       "      <th>status_code</th>\n",
       "      <th>request_length</th>\n",
       "      <th>request_time</th>\n",
       "      <th>http_method</th>\n",
       "      <th>url</th>\n",
       "    </tr>\n",
       "  </thead>\n",
       "  <tbody>\n",
       "    <tr>\n",
       "      <th>776</th>\n",
       "      <td>2021-05-12 05:06:31+04:30</td>\n",
       "      <td>[[compatible, SemrushBot/7~bl, +http://www.sem...</td>\n",
       "      <td>20.62.177.11</td>\n",
       "      <td>200</td>\n",
       "      <td>53479</td>\n",
       "      <td>-</td>\n",
       "      <td>Get</td>\n",
       "      <td>/pros/1993352776</td>\n",
       "    </tr>\n",
       "    <tr>\n",
       "      <th>2010</th>\n",
       "      <td>2021-05-12 05:07:27+04:30</td>\n",
       "      <td>[[compatible, SemrushBot/7~bl, +http://www.sem...</td>\n",
       "      <td>20.62.177.60</td>\n",
       "      <td>200</td>\n",
       "      <td>55330</td>\n",
       "      <td>-</td>\n",
       "      <td>Get</td>\n",
       "      <td>/pros/1797822247</td>\n",
       "    </tr>\n",
       "    <tr>\n",
       "      <th>2708</th>\n",
       "      <td>2021-05-12 05:08:04+04:30</td>\n",
       "      <td>[[compatible, SemrushBot/7~bl, +http://www.sem...</td>\n",
       "      <td>20.62.177.133</td>\n",
       "      <td>200</td>\n",
       "      <td>20947</td>\n",
       "      <td>-</td>\n",
       "      <td>Get</td>\n",
       "      <td>/pros/763244865</td>\n",
       "    </tr>\n",
       "    <tr>\n",
       "      <th>2866</th>\n",
       "      <td>2021-05-12 05:08:18+04:30</td>\n",
       "      <td>[[Linux, Android 6.0.1, Nexus 5X Build/MMB29P]...</td>\n",
       "      <td>207.213.193.118</td>\n",
       "      <td>301</td>\n",
       "      <td>169</td>\n",
       "      <td>-</td>\n",
       "      <td>Get</td>\n",
       "      <td>/pages/1939232229</td>\n",
       "    </tr>\n",
       "    <tr>\n",
       "      <th>3468</th>\n",
       "      <td>2021-05-12 05:08:49+04:30</td>\n",
       "      <td>[[compatible, SemrushBot/7~bl, +http://www.sem...</td>\n",
       "      <td>20.62.177.4</td>\n",
       "      <td>200</td>\n",
       "      <td>37060</td>\n",
       "      <td>-</td>\n",
       "      <td>Get</td>\n",
       "      <td>/pros/2084824811</td>\n",
       "    </tr>\n",
       "  </tbody>\n",
       "</table>\n",
       "</div>"
      ],
      "text/plain": [
       "                      datetime  \\\n",
       "776  2021-05-12 05:06:31+04:30   \n",
       "2010 2021-05-12 05:07:27+04:30   \n",
       "2708 2021-05-12 05:08:04+04:30   \n",
       "2866 2021-05-12 05:08:18+04:30   \n",
       "3468 2021-05-12 05:08:49+04:30   \n",
       "\n",
       "                                        http_user_agent               ip  \\\n",
       "776   [[compatible, SemrushBot/7~bl, +http://www.sem...     20.62.177.11   \n",
       "2010  [[compatible, SemrushBot/7~bl, +http://www.sem...     20.62.177.60   \n",
       "2708  [[compatible, SemrushBot/7~bl, +http://www.sem...    20.62.177.133   \n",
       "2866  [[Linux, Android 6.0.1, Nexus 5X Build/MMB29P]...  207.213.193.118   \n",
       "3468  [[compatible, SemrushBot/7~bl, +http://www.sem...      20.62.177.4   \n",
       "\n",
       "      status_code  request_length request_time http_method                url  \n",
       "776           200           53479            -         Get   /pros/1993352776  \n",
       "2010          200           55330            -         Get   /pros/1797822247  \n",
       "2708          200           20947            -         Get    /pros/763244865  \n",
       "2866          301             169            -         Get  /pages/1939232229  \n",
       "3468          200           37060            -         Get   /pros/2084824811  "
      ]
     },
     "execution_count": 22,
     "metadata": {},
     "output_type": "execute_result"
    }
   ],
   "source": [
    "print(len(temp[temp.ip != '-']))\n",
    "temp[temp.ip != '-'].head()"
   ]
  },
  {
   "cell_type": "code",
   "execution_count": 23,
   "metadata": {},
   "outputs": [
    {
     "data": {
      "text/plain": [
       "((1240227, 8), (1260035, 8))"
      ]
     },
     "execution_count": 23,
     "metadata": {},
     "output_type": "execute_result"
    }
   ],
   "source": [
    "train_req_time = train.copy().loc[train.request_time.apply(lambda x: x.isnumeric())]\n",
    "train_req_time.request_time = train_req_time.request_time.astype('int64')\n",
    "train_req_time.shape, train.shape"
   ]
  },
  {
   "cell_type": "code",
   "execution_count": 24,
   "metadata": {
    "colab": {
     "base_uri": "https://localhost:8080/"
    },
    "id": "a7oFf7ajNVLM",
    "outputId": "1e777ba1-155e-408c-d84a-d7710282bdfe"
   },
   "outputs": [
    {
     "data": {
      "text/plain": [
       "count    1.240227e+06\n",
       "mean     6.819186e+03\n",
       "std      1.845683e+05\n",
       "min      0.000000e+00\n",
       "25%      4.000000e+00\n",
       "50%      1.200000e+01\n",
       "75%      2.400000e+01\n",
       "max      1.750470e+08\n",
       "Name: request_time, dtype: float64"
      ]
     },
     "execution_count": 24,
     "metadata": {},
     "output_type": "execute_result"
    }
   ],
   "source": [
    "train_req_time.request_time.describe()"
   ]
  },
  {
   "cell_type": "code",
   "execution_count": 25,
   "metadata": {
    "colab": {
     "base_uri": "https://localhost:8080/",
     "height": 928
    },
    "id": "W4iVk8Gb29nY",
    "outputId": "23fee294-5f93-4b3b-9f7f-0553c9fe8fa5"
   },
   "outputs": [
    {
     "name": "stderr",
     "output_type": "stream",
     "text": [
      "/opt/anaconda3/lib/python3.8/site-packages/pandas/core/series.py:679: RuntimeWarning: divide by zero encountered in log\n",
      "  result = getattr(ufunc, method)(*inputs, **kwargs)\n"
     ]
    },
    {
     "data": {
      "image/png": "[encoded data removed]",
      "text/plain": [
       "<Figure size 1080x1080 with 3 Axes>"
      ]
     },
     "metadata": {
      "needs_background": "light"
     },
     "output_type": "display_data"
    }
   ],
   "source": [
    "f, axes = plt.subplots(3, figsize=(15,15))\n",
    "\n",
    "x = sns.boxplot(x=train_req_time.request_time, ax=axes[0])\n",
    "log_x = sns.boxplot(x=np.log(train_req_time.request_time), ax=axes[1])\n",
    "limited_x = sns.boxplot(x=train_req_time.request_time[train_req_time.request_time < 45], ax=axes[2])\n",
    "\n",
    "x.set(xlabel='Request Time')\n",
    "log_x.set(xlabel='log(Request Time)')\n",
    "_ = limited_x.set(xlabel='Request Time < 45')"
   ]
  },
  {
   "cell_type": "markdown",
   "metadata": {
    "id": "3i6fypk9SAa5"
   },
   "source": [
    "### Http Method"
   ]
  },
  {
   "cell_type": "code",
   "execution_count": 26,
   "metadata": {
    "id": "ZPYKNxKbiSbb"
   },
   "outputs": [
    {
     "data": {
      "text/plain": [
       "array([1141799,   65452,   32452,   20195,     137])"
      ]
     },
     "execution_count": 26,
     "metadata": {},
     "output_type": "execute_result"
    }
   ],
   "source": [
    "method_count = train.http_method.value_counts()\n",
    "method_count.values"
   ]
  },
  {
   "cell_type": "code",
   "execution_count": 27,
   "metadata": {
    "colab": {
     "base_uri": "https://localhost:8080/",
     "height": 468
    },
    "id": "pmtjNbIcff_H",
    "outputId": "415c0de0-adcd-4a21-8b9d-6d5af1def58a"
   },
   "outputs": [
    {
     "data": {
      "image/png": "[encoded data removed]",
      "text/plain": [
       "<Figure size 1152x576 with 2 Axes>"
      ]
     },
     "metadata": {},
     "output_type": "display_data"
    }
   ],
   "source": [
    "fig, axs = plt.subplots(1,2,figsize=(16,8))\n",
    "\n",
    "axs[0].pie(train.http_method.value_counts().values, \n",
    "          labels=train.http_method.value_counts().index.values)\n",
    "axs[1].pie(train.http_method[train.http_method != 'Get'].value_counts().values, \n",
    "          labels=train.http_method[train.http_method != 'Get'].value_counts().index.values)\n",
    "\n",
    "axs[0].set(xlabel='Http Method Pie Plot')\n",
    "_ = axs[1].set(xlabel='Http Method Pie Plot without \"Get\"')"
   ]
  },
  {
   "cell_type": "code",
   "execution_count": 28,
   "metadata": {
    "colab": {
     "base_uri": "https://localhost:8080/",
     "height": 362
    },
    "id": "IXSG0z_bPj58",
    "outputId": "c2e9adcb-354c-4b27-fbef-be82988a57f0"
   },
   "outputs": [
    {
     "data": {
      "image/png": "[encoded data removed]",
      "text/plain": [
       "<Figure size 1296x360 with 3 Axes>"
      ]
     },
     "metadata": {
      "needs_background": "light"
     },
     "output_type": "display_data"
    }
   ],
   "source": [
    "fig, axs = plt.subplots(1,3,figsize=(18,5))\n",
    "\n",
    "axs[0].hist(train.http_method)\n",
    "axs[1].hist(train.http_method, log=True)\n",
    "axs[2].hist(train.http_method[train.http_method != 'Get'])\n",
    "\n",
    "axs[0].set(xlabel='Http Method Histogram')\n",
    "axs[1].set(xlabel='log(Http Method Histogram)')\n",
    "_ = axs[2].set(xlabel='Http Method Histogram without \"Get\"')"
   ]
  },
  {
   "cell_type": "markdown",
   "metadata": {},
   "source": [
    "### URL"
   ]
  },
  {
   "cell_type": "code",
   "execution_count": 96,
   "metadata": {},
   "outputs": [],
   "source": [
    "roots, values = get_path_roots(train.url, MIN_PATH_ROOT_SAMPLE)"
   ]
  },
  {
   "cell_type": "code",
   "execution_count": 30,
   "metadata": {},
   "outputs": [
    {
     "data": {
      "image/png": "[encoded data removed]",
      "text/plain": [
       "<Figure size 1296x864 with 1 Axes>"
      ]
     },
     "metadata": {
      "needs_background": "light"
     },
     "output_type": "display_data"
    }
   ],
   "source": [
    "plt.figure(figsize=(18,12))\n",
    "plt.bar(np.concatenate((roots, ['OTHERS'])), np.concatenate((values, [len(train.url) - sum(values)])))\n",
    "_ = plt.xticks(rotation=45)"
   ]
  },
  {
   "cell_type": "markdown",
   "metadata": {
    "id": "CNAwQavZvoPe"
   },
   "source": [
    "# Preprocess"
   ]
  },
  {
   "cell_type": "markdown",
   "metadata": {},
   "source": [
    "### helper functions"
   ]
  },
  {
   "cell_type": "code",
   "execution_count": 11,
   "metadata": {},
   "outputs": [],
   "source": [
    "def get_categorical_status_codes(status_codes):\n",
    "    status_labels = ['1xx','2xx','3xx','4xx','5xx']\n",
    "    return np.array([status_labels[np.floor(i / 100).astype(np.int64) - 1] for i in status_codes])"
   ]
  },
  {
   "cell_type": "code",
   "execution_count": 12,
   "metadata": {},
   "outputs": [
    {
     "data": {
      "text/plain": [
       "array(['2xx', '2xx', '1xx', '5xx', '3xx', '4xx'], dtype='<U3')"
      ]
     },
     "execution_count": 12,
     "metadata": {},
     "output_type": "execute_result"
    }
   ],
   "source": [
    "get_categorical_status_codes([201, 200,190, 545,333,412])"
   ]
  },
  {
   "cell_type": "markdown",
   "metadata": {},
   "source": [
    "### cleaning"
   ]
  },
  {
   "cell_type": "code",
   "execution_count": 89,
   "metadata": {},
   "outputs": [],
   "source": [
    "triain = train[train.ip == '-']"
   ]
  },
  {
   "cell_type": "code",
   "execution_count": 13,
   "metadata": {},
   "outputs": [],
   "source": [
    "# request_time\n",
    "train['null_req_time'] = np.array([0 if t.isnumeric() else 1 for t in train.request_time])\n",
    "train.request_time = np.array([np.int64(t) if t.isnumeric() else 0 for t in train.request_time])"
   ]
  },
  {
   "cell_type": "code",
   "execution_count": 14,
   "metadata": {},
   "outputs": [
    {
     "data": {
      "text/plain": [
       "js/sentry.47b4061bac0b8ac89b9c.js      35992\n",
       "/api/v2/token                          35655\n",
       "fonts/IRANSansWeb_Light.woff2          34065\n",
       "js/lazyload.797291581158393f5011.js    33328\n",
       "/877499224                             33160\n",
       "                                       ...  \n",
       "/api/v2/connect/1539344641                 1\n",
       "/cdn/pro_photo_gallery/1312908454          1\n",
       "/api/v2/connect/294631614                  1\n",
       "/api/v2/connect/359011110                  1\n",
       "/cdn/taskPic/1169388351                    1\n",
       "Name: url, Length: 138845, dtype: int64"
      ]
     },
     "execution_count": 14,
     "metadata": {},
     "output_type": "execute_result"
    }
   ],
   "source": [
    "train.url.value_counts()"
   ]
  },
  {
   "cell_type": "code",
   "execution_count": 15,
   "metadata": {},
   "outputs": [],
   "source": [
    "# url\n",
    "train.url = convert_urls_to_roots(train.url, MIN_PATH_ROOT_SAMPLE)"
   ]
  },
  {
   "cell_type": "code",
   "execution_count": 16,
   "metadata": {},
   "outputs": [
    {
     "data": {
      "text/plain": [
       "cdn          317724\n",
       "images       298288\n",
       "api          184213\n",
       "js           125224\n",
       "fonts         98485\n",
       "css           56303\n",
       "OTHER         50062\n",
       "NUM           38394\n",
       "amp           31085\n",
       "/             24065\n",
       "pages         18195\n",
       "templates     17825\n",
       "ROBOTS          172\n",
       "Name: url, dtype: int64"
      ]
     },
     "execution_count": 16,
     "metadata": {},
     "output_type": "execute_result"
    }
   ],
   "source": [
    "train.url.value_counts()"
   ]
  },
  {
   "cell_type": "code",
   "execution_count": 17,
   "metadata": {},
   "outputs": [
    {
     "data": {
      "text/plain": [
       "(17,\n",
       " array([304, 200, 301, 307, 101, 503, 500, 404, 405, 206, 499, 400, 401,\n",
       "        413, 308, 403, 408]))"
      ]
     },
     "execution_count": 17,
     "metadata": {},
     "output_type": "execute_result"
    }
   ],
   "source": [
    "train.status_code.nunique(), train.status_code.unique()"
   ]
  },
  {
   "cell_type": "code",
   "execution_count": 18,
   "metadata": {},
   "outputs": [],
   "source": [
    "# status_code\n",
    "train.status_code = get_categorical_status_codes(train.status_code)"
   ]
  },
  {
   "cell_type": "code",
   "execution_count": 19,
   "metadata": {},
   "outputs": [
    {
     "data": {
      "text/plain": [
       "(5, array(['3xx', '2xx', '1xx', '5xx', '4xx'], dtype=object))"
      ]
     },
     "execution_count": 19,
     "metadata": {},
     "output_type": "execute_result"
    }
   ],
   "source": [
    "train.status_code.nunique(), train.status_code.unique()"
   ]
  },
  {
   "cell_type": "code",
   "execution_count": 20,
   "metadata": {
    "colab": {
     "base_uri": "https://localhost:8080/"
    },
    "id": "q7pQ_aG8xhZ0",
    "outputId": "7ad06da8-ef1f-4d64-8575-16a375e856f5"
   },
   "outputs": [],
   "source": [
    "encoder = OneHotEncoder()\n",
    "status_1hot = encoder.fit_transform(train[['status_code']])\n",
    "method_1hot = encoder.fit_transform(train[['http_method']])\n",
    "url_1hot = encoder.fit_transform(train[['url']])\n",
    "\n",
    "train_cleaned = np.concatenate((\n",
    "    train.drop(labels=['status_code','http_method','url'], axis=1), \n",
    "    status_1hot.toarray(), \n",
    "    method_1hot.toarray(),\n",
    "    np.concatenate((url_1hot.toarray()[:,:2], url_1hot.toarray()[:,3:]), axis=1)), # OTHER -> column=2\n",
    "    axis=1)"
   ]
  },
  {
   "cell_type": "code",
   "execution_count": 21,
   "metadata": {},
   "outputs": [
    {
     "data": {
      "text/html": [
       "<div>\n",
       "<style scoped>\n",
       "    .dataframe tbody tr th:only-of-type {\n",
       "        vertical-align: middle;\n",
       "    }\n",
       "\n",
       "    .dataframe tbody tr th {\n",
       "        vertical-align: top;\n",
       "    }\n",
       "\n",
       "    .dataframe thead th {\n",
       "        text-align: right;\n",
       "    }\n",
       "</style>\n",
       "<table border=\"1\" class=\"dataframe\">\n",
       "  <thead>\n",
       "    <tr style=\"text-align: right;\">\n",
       "      <th></th>\n",
       "      <th>0</th>\n",
       "      <th>1</th>\n",
       "      <th>2</th>\n",
       "      <th>3</th>\n",
       "      <th>4</th>\n",
       "      <th>5</th>\n",
       "      <th>6</th>\n",
       "      <th>7</th>\n",
       "      <th>8</th>\n",
       "      <th>9</th>\n",
       "      <th>...</th>\n",
       "      <th>18</th>\n",
       "      <th>19</th>\n",
       "      <th>20</th>\n",
       "      <th>21</th>\n",
       "      <th>22</th>\n",
       "      <th>23</th>\n",
       "      <th>24</th>\n",
       "      <th>25</th>\n",
       "      <th>26</th>\n",
       "      <th>27</th>\n",
       "    </tr>\n",
       "  </thead>\n",
       "  <tbody>\n",
       "    <tr>\n",
       "      <th>0</th>\n",
       "      <td>2021-05-12 05:06:00+04:30</td>\n",
       "      <td>[Googlebot-Image/1.0]</td>\n",
       "      <td>207.213.193.143</td>\n",
       "      <td>0</td>\n",
       "      <td>32</td>\n",
       "      <td>0</td>\n",
       "      <td>0</td>\n",
       "      <td>0</td>\n",
       "      <td>1</td>\n",
       "      <td>0</td>\n",
       "      <td>...</td>\n",
       "      <td>0</td>\n",
       "      <td>0</td>\n",
       "      <td>0</td>\n",
       "      <td>1</td>\n",
       "      <td>0</td>\n",
       "      <td>0</td>\n",
       "      <td>0</td>\n",
       "      <td>0</td>\n",
       "      <td>0</td>\n",
       "      <td>0</td>\n",
       "    </tr>\n",
       "    <tr>\n",
       "      <th>1</th>\n",
       "      <td>2021-05-12 05:06:00+04:30</td>\n",
       "      <td>[Googlebot-Image/1.0]</td>\n",
       "      <td>207.213.193.143</td>\n",
       "      <td>0</td>\n",
       "      <td>4</td>\n",
       "      <td>0</td>\n",
       "      <td>0</td>\n",
       "      <td>0</td>\n",
       "      <td>1</td>\n",
       "      <td>0</td>\n",
       "      <td>...</td>\n",
       "      <td>0</td>\n",
       "      <td>0</td>\n",
       "      <td>0</td>\n",
       "      <td>0</td>\n",
       "      <td>0</td>\n",
       "      <td>0</td>\n",
       "      <td>1</td>\n",
       "      <td>0</td>\n",
       "      <td>0</td>\n",
       "      <td>0</td>\n",
       "    </tr>\n",
       "    <tr>\n",
       "      <th>2</th>\n",
       "      <td>2021-05-12 05:06:00+04:30</td>\n",
       "      <td>[[Linux, Android 6.0.1, SAMSUNG SM-J710GN Buil...</td>\n",
       "      <td>35.110.222.153</td>\n",
       "      <td>52567</td>\n",
       "      <td>32</td>\n",
       "      <td>0</td>\n",
       "      <td>0</td>\n",
       "      <td>1</td>\n",
       "      <td>0</td>\n",
       "      <td>0</td>\n",
       "      <td>...</td>\n",
       "      <td>0</td>\n",
       "      <td>0</td>\n",
       "      <td>0</td>\n",
       "      <td>0</td>\n",
       "      <td>0</td>\n",
       "      <td>0</td>\n",
       "      <td>0</td>\n",
       "      <td>0</td>\n",
       "      <td>1</td>\n",
       "      <td>0</td>\n",
       "    </tr>\n",
       "    <tr>\n",
       "      <th>3</th>\n",
       "      <td>2021-05-12 05:06:00+04:30</td>\n",
       "      <td>[[Linux, Android 6.0, CAM-L21], [KHTML, like G...</td>\n",
       "      <td>35.108.208.99</td>\n",
       "      <td>23531</td>\n",
       "      <td>20</td>\n",
       "      <td>0</td>\n",
       "      <td>0</td>\n",
       "      <td>1</td>\n",
       "      <td>0</td>\n",
       "      <td>0</td>\n",
       "      <td>...</td>\n",
       "      <td>0</td>\n",
       "      <td>0</td>\n",
       "      <td>0</td>\n",
       "      <td>0</td>\n",
       "      <td>0</td>\n",
       "      <td>0</td>\n",
       "      <td>1</td>\n",
       "      <td>0</td>\n",
       "      <td>0</td>\n",
       "      <td>0</td>\n",
       "    </tr>\n",
       "    <tr>\n",
       "      <th>4</th>\n",
       "      <td>2021-05-12 05:06:00+04:30</td>\n",
       "      <td>[[Linux, Android 6.0.1, SAMSUNG SM-J710GN Buil...</td>\n",
       "      <td>35.110.222.153</td>\n",
       "      <td>4680</td>\n",
       "      <td>8</td>\n",
       "      <td>0</td>\n",
       "      <td>0</td>\n",
       "      <td>1</td>\n",
       "      <td>0</td>\n",
       "      <td>0</td>\n",
       "      <td>...</td>\n",
       "      <td>0</td>\n",
       "      <td>0</td>\n",
       "      <td>0</td>\n",
       "      <td>0</td>\n",
       "      <td>0</td>\n",
       "      <td>0</td>\n",
       "      <td>1</td>\n",
       "      <td>0</td>\n",
       "      <td>0</td>\n",
       "      <td>0</td>\n",
       "    </tr>\n",
       "  </tbody>\n",
       "</table>\n",
       "<p>5 rows × 28 columns</p>\n",
       "</div>"
      ],
      "text/plain": [
       "                         0   \\\n",
       "0 2021-05-12 05:06:00+04:30   \n",
       "1 2021-05-12 05:06:00+04:30   \n",
       "2 2021-05-12 05:06:00+04:30   \n",
       "3 2021-05-12 05:06:00+04:30   \n",
       "4 2021-05-12 05:06:00+04:30   \n",
       "\n",
       "                                                  1                2      3   \\\n",
       "0                              [Googlebot-Image/1.0]  207.213.193.143      0   \n",
       "1                              [Googlebot-Image/1.0]  207.213.193.143      0   \n",
       "2  [[Linux, Android 6.0.1, SAMSUNG SM-J710GN Buil...   35.110.222.153  52567   \n",
       "3  [[Linux, Android 6.0, CAM-L21], [KHTML, like G...    35.108.208.99  23531   \n",
       "4  [[Linux, Android 6.0.1, SAMSUNG SM-J710GN Buil...   35.110.222.153   4680   \n",
       "\n",
       "   4  5  6  7  8  9   ... 18 19 20 21 22 23 24 25 26 27  \n",
       "0  32  0  0  0  1  0  ...  0  0  0  1  0  0  0  0  0  0  \n",
       "1   4  0  0  0  1  0  ...  0  0  0  0  0  0  1  0  0  0  \n",
       "2  32  0  0  1  0  0  ...  0  0  0  0  0  0  0  0  1  0  \n",
       "3  20  0  0  1  0  0  ...  0  0  0  0  0  0  1  0  0  0  \n",
       "4   8  0  0  1  0  0  ...  0  0  0  0  0  0  1  0  0  0  \n",
       "\n",
       "[5 rows x 28 columns]"
      ]
     },
     "execution_count": 21,
     "metadata": {},
     "output_type": "execute_result"
    }
   ],
   "source": [
    "train_cleaned = pd.DataFrame(train_cleaned)\n",
    "train_cleaned.head()"
   ]
  },
  {
   "cell_type": "code",
   "execution_count": 22,
   "metadata": {},
   "outputs": [],
   "source": [
    "train_cleaned.drop(columns=[0,1,2], inplace=True)"
   ]
  },
  {
   "cell_type": "code",
   "execution_count": 23,
   "metadata": {
    "colab": {
     "base_uri": "https://localhost:8080/"
    },
    "id": "5F4wNiLIyGNI",
    "outputId": "15cc284b-d136-4b41-84b6-04aba437aaff"
   },
   "outputs": [
    {
     "data": {
      "text/html": [
       "<div>\n",
       "<style scoped>\n",
       "    .dataframe tbody tr th:only-of-type {\n",
       "        vertical-align: middle;\n",
       "    }\n",
       "\n",
       "    .dataframe tbody tr th {\n",
       "        vertical-align: top;\n",
       "    }\n",
       "\n",
       "    .dataframe thead th {\n",
       "        text-align: right;\n",
       "    }\n",
       "</style>\n",
       "<table border=\"1\" class=\"dataframe\">\n",
       "  <thead>\n",
       "    <tr style=\"text-align: right;\">\n",
       "      <th></th>\n",
       "      <th>0</th>\n",
       "      <th>1</th>\n",
       "      <th>2</th>\n",
       "      <th>3</th>\n",
       "      <th>4</th>\n",
       "      <th>5</th>\n",
       "      <th>6</th>\n",
       "      <th>7</th>\n",
       "      <th>8</th>\n",
       "      <th>9</th>\n",
       "      <th>...</th>\n",
       "      <th>15</th>\n",
       "      <th>16</th>\n",
       "      <th>17</th>\n",
       "      <th>18</th>\n",
       "      <th>19</th>\n",
       "      <th>20</th>\n",
       "      <th>21</th>\n",
       "      <th>22</th>\n",
       "      <th>23</th>\n",
       "      <th>24</th>\n",
       "    </tr>\n",
       "  </thead>\n",
       "  <tbody>\n",
       "    <tr>\n",
       "      <th>0</th>\n",
       "      <td>0.000000</td>\n",
       "      <td>1.828080e-07</td>\n",
       "      <td>0.0</td>\n",
       "      <td>0.0</td>\n",
       "      <td>0.0</td>\n",
       "      <td>1.0</td>\n",
       "      <td>0.0</td>\n",
       "      <td>0.0</td>\n",
       "      <td>1.0</td>\n",
       "      <td>0.0</td>\n",
       "      <td>...</td>\n",
       "      <td>0.0</td>\n",
       "      <td>0.0</td>\n",
       "      <td>0.0</td>\n",
       "      <td>1.0</td>\n",
       "      <td>0.0</td>\n",
       "      <td>0.0</td>\n",
       "      <td>0.0</td>\n",
       "      <td>0.0</td>\n",
       "      <td>0.0</td>\n",
       "      <td>0.0</td>\n",
       "    </tr>\n",
       "    <tr>\n",
       "      <th>1</th>\n",
       "      <td>0.000000</td>\n",
       "      <td>2.285100e-08</td>\n",
       "      <td>0.0</td>\n",
       "      <td>0.0</td>\n",
       "      <td>0.0</td>\n",
       "      <td>1.0</td>\n",
       "      <td>0.0</td>\n",
       "      <td>0.0</td>\n",
       "      <td>1.0</td>\n",
       "      <td>0.0</td>\n",
       "      <td>...</td>\n",
       "      <td>0.0</td>\n",
       "      <td>0.0</td>\n",
       "      <td>0.0</td>\n",
       "      <td>0.0</td>\n",
       "      <td>0.0</td>\n",
       "      <td>0.0</td>\n",
       "      <td>1.0</td>\n",
       "      <td>0.0</td>\n",
       "      <td>0.0</td>\n",
       "      <td>0.0</td>\n",
       "    </tr>\n",
       "    <tr>\n",
       "      <th>2</th>\n",
       "      <td>0.000514</td>\n",
       "      <td>1.828080e-07</td>\n",
       "      <td>0.0</td>\n",
       "      <td>0.0</td>\n",
       "      <td>1.0</td>\n",
       "      <td>0.0</td>\n",
       "      <td>0.0</td>\n",
       "      <td>0.0</td>\n",
       "      <td>1.0</td>\n",
       "      <td>0.0</td>\n",
       "      <td>...</td>\n",
       "      <td>0.0</td>\n",
       "      <td>0.0</td>\n",
       "      <td>0.0</td>\n",
       "      <td>0.0</td>\n",
       "      <td>0.0</td>\n",
       "      <td>0.0</td>\n",
       "      <td>0.0</td>\n",
       "      <td>0.0</td>\n",
       "      <td>1.0</td>\n",
       "      <td>0.0</td>\n",
       "    </tr>\n",
       "    <tr>\n",
       "      <th>3</th>\n",
       "      <td>0.000230</td>\n",
       "      <td>1.142550e-07</td>\n",
       "      <td>0.0</td>\n",
       "      <td>0.0</td>\n",
       "      <td>1.0</td>\n",
       "      <td>0.0</td>\n",
       "      <td>0.0</td>\n",
       "      <td>0.0</td>\n",
       "      <td>1.0</td>\n",
       "      <td>0.0</td>\n",
       "      <td>...</td>\n",
       "      <td>0.0</td>\n",
       "      <td>0.0</td>\n",
       "      <td>0.0</td>\n",
       "      <td>0.0</td>\n",
       "      <td>0.0</td>\n",
       "      <td>0.0</td>\n",
       "      <td>1.0</td>\n",
       "      <td>0.0</td>\n",
       "      <td>0.0</td>\n",
       "      <td>0.0</td>\n",
       "    </tr>\n",
       "    <tr>\n",
       "      <th>4</th>\n",
       "      <td>0.000046</td>\n",
       "      <td>4.570200e-08</td>\n",
       "      <td>0.0</td>\n",
       "      <td>0.0</td>\n",
       "      <td>1.0</td>\n",
       "      <td>0.0</td>\n",
       "      <td>0.0</td>\n",
       "      <td>0.0</td>\n",
       "      <td>1.0</td>\n",
       "      <td>0.0</td>\n",
       "      <td>...</td>\n",
       "      <td>0.0</td>\n",
       "      <td>0.0</td>\n",
       "      <td>0.0</td>\n",
       "      <td>0.0</td>\n",
       "      <td>0.0</td>\n",
       "      <td>0.0</td>\n",
       "      <td>1.0</td>\n",
       "      <td>0.0</td>\n",
       "      <td>0.0</td>\n",
       "      <td>0.0</td>\n",
       "    </tr>\n",
       "  </tbody>\n",
       "</table>\n",
       "<p>5 rows × 25 columns</p>\n",
       "</div>"
      ],
      "text/plain": [
       "         0             1    2    3    4    5    6    7    8    9   ...   15  \\\n",
       "0  0.000000  1.828080e-07  0.0  0.0  0.0  1.0  0.0  0.0  1.0  0.0  ...  0.0   \n",
       "1  0.000000  2.285100e-08  0.0  0.0  0.0  1.0  0.0  0.0  1.0  0.0  ...  0.0   \n",
       "2  0.000514  1.828080e-07  0.0  0.0  1.0  0.0  0.0  0.0  1.0  0.0  ...  0.0   \n",
       "3  0.000230  1.142550e-07  0.0  0.0  1.0  0.0  0.0  0.0  1.0  0.0  ...  0.0   \n",
       "4  0.000046  4.570200e-08  0.0  0.0  1.0  0.0  0.0  0.0  1.0  0.0  ...  0.0   \n",
       "\n",
       "    16   17   18   19   20   21   22   23   24  \n",
       "0  0.0  0.0  1.0  0.0  0.0  0.0  0.0  0.0  0.0  \n",
       "1  0.0  0.0  0.0  0.0  0.0  1.0  0.0  0.0  0.0  \n",
       "2  0.0  0.0  0.0  0.0  0.0  0.0  0.0  1.0  0.0  \n",
       "3  0.0  0.0  0.0  0.0  0.0  1.0  0.0  0.0  0.0  \n",
       "4  0.0  0.0  0.0  0.0  0.0  1.0  0.0  0.0  0.0  \n",
       "\n",
       "[5 rows x 25 columns]"
      ]
     },
     "execution_count": 23,
     "metadata": {},
     "output_type": "execute_result"
    }
   ],
   "source": [
    "# min_max scalar\n",
    "train_normalized = MinMaxScaler().fit_transform(train_cleaned)\n",
    "train_normalized = pd.DataFrame(train_normalized)\n",
    "train_normalized.head()"
   ]
  },
  {
   "cell_type": "markdown",
   "metadata": {},
   "source": [
    "# Approximate Labeling"
   ]
  },
  {
   "cell_type": "code",
   "execution_count": 24,
   "metadata": {},
   "outputs": [],
   "source": [
    "# s = str(pd.Series([str(s) for s in df.http_user_agent]).unique())\n",
    "# with open(\"unique.txt\", \"w\") as text_file:\n",
    "#     print(f\"Unique : {s}\", file=text_file)"
   ]
  },
  {
   "cell_type": "markdown",
   "metadata": {},
   "source": [
    "### for Base Model"
   ]
  },
  {
   "cell_type": "code",
   "execution_count": 25,
   "metadata": {},
   "outputs": [],
   "source": [
    "def is_anomaly(s):\n",
    "    if ('bot' in str(s).lower() or 'go-http-client' in str(s).lower()) and not 'google' in str(s).lower() and not 'apple' in str(s).lower() and not 'android' in str(s).lower():\n",
    "        return True\n",
    "    return False"
   ]
  },
  {
   "cell_type": "code",
   "execution_count": 26,
   "metadata": {},
   "outputs": [],
   "source": [
    "def get_approximate_labels(data):\n",
    "    labels = [int(is_anomaly(s)) for s in data.http_user_agent]\n",
    "    return np.array(labels)"
   ]
  },
  {
   "cell_type": "code",
   "execution_count": 27,
   "metadata": {},
   "outputs": [],
   "source": [
    "def evaluate(pred):\n",
    "    y = get_approximate_labels(train)\n",
    "    print(\"Precision : %\", sum(pred & y) / sum(y) * 100)"
   ]
  },
  {
   "cell_type": "code",
   "execution_count": 28,
   "metadata": {},
   "outputs": [
    {
     "data": {
      "text/plain": [
       "66416"
      ]
     },
     "execution_count": 28,
     "metadata": {},
     "output_type": "execute_result"
    }
   ],
   "source": [
    "sum(get_approximate_labels(train))"
   ]
  },
  {
   "cell_type": "markdown",
   "metadata": {},
   "source": [
    "### for Session Based Model"
   ]
  },
  {
   "cell_type": "code",
   "execution_count": null,
   "metadata": {},
   "outputs": [],
   "source": [
    "def estimate_label(session):\n",
    "    "
   ]
  },
  {
   "cell_type": "code",
   "execution_count": null,
   "metadata": {},
   "outputs": [],
   "source": []
  },
  {
   "cell_type": "markdown",
   "metadata": {},
   "source": [
    "# Models"
   ]
  },
  {
   "cell_type": "code",
   "execution_count": 29,
   "metadata": {},
   "outputs": [
    {
     "data": {
      "text/html": [
       "<style  type=\"text/css\" >\n",
       "</style><table id=\"T_dd463e90_da36_11eb_a5b3_3af9d3e7afd5\" ><thead>    <tr>        <th class=\"blank level0\" ></th>        <th class=\"col_heading level0 col0\" >Description</th>        <th class=\"col_heading level0 col1\" >Value</th>    </tr></thead><tbody>\n",
       "                <tr>\n",
       "                        <th id=\"T_dd463e90_da36_11eb_a5b3_3af9d3e7afd5level0_row0\" class=\"row_heading level0 row0\" >0</th>\n",
       "                        <td id=\"T_dd463e90_da36_11eb_a5b3_3af9d3e7afd5row0_col0\" class=\"data row0 col0\" >session_id</td>\n",
       "                        <td id=\"T_dd463e90_da36_11eb_a5b3_3af9d3e7afd5row0_col1\" class=\"data row0 col1\" >2920</td>\n",
       "            </tr>\n",
       "            <tr>\n",
       "                        <th id=\"T_dd463e90_da36_11eb_a5b3_3af9d3e7afd5level0_row1\" class=\"row_heading level0 row1\" >1</th>\n",
       "                        <td id=\"T_dd463e90_da36_11eb_a5b3_3af9d3e7afd5row1_col0\" class=\"data row1 col0\" >Original Data</td>\n",
       "                        <td id=\"T_dd463e90_da36_11eb_a5b3_3af9d3e7afd5row1_col1\" class=\"data row1 col1\" >(1260035, 25)</td>\n",
       "            </tr>\n",
       "            <tr>\n",
       "                        <th id=\"T_dd463e90_da36_11eb_a5b3_3af9d3e7afd5level0_row2\" class=\"row_heading level0 row2\" >2</th>\n",
       "                        <td id=\"T_dd463e90_da36_11eb_a5b3_3af9d3e7afd5row2_col0\" class=\"data row2 col0\" >Missing Values</td>\n",
       "                        <td id=\"T_dd463e90_da36_11eb_a5b3_3af9d3e7afd5row2_col1\" class=\"data row2 col1\" >False</td>\n",
       "            </tr>\n",
       "            <tr>\n",
       "                        <th id=\"T_dd463e90_da36_11eb_a5b3_3af9d3e7afd5level0_row3\" class=\"row_heading level0 row3\" >3</th>\n",
       "                        <td id=\"T_dd463e90_da36_11eb_a5b3_3af9d3e7afd5row3_col0\" class=\"data row3 col0\" >Numeric Features</td>\n",
       "                        <td id=\"T_dd463e90_da36_11eb_a5b3_3af9d3e7afd5row3_col1\" class=\"data row3 col1\" >2</td>\n",
       "            </tr>\n",
       "            <tr>\n",
       "                        <th id=\"T_dd463e90_da36_11eb_a5b3_3af9d3e7afd5level0_row4\" class=\"row_heading level0 row4\" >4</th>\n",
       "                        <td id=\"T_dd463e90_da36_11eb_a5b3_3af9d3e7afd5row4_col0\" class=\"data row4 col0\" >Categorical Features</td>\n",
       "                        <td id=\"T_dd463e90_da36_11eb_a5b3_3af9d3e7afd5row4_col1\" class=\"data row4 col1\" >23</td>\n",
       "            </tr>\n",
       "            <tr>\n",
       "                        <th id=\"T_dd463e90_da36_11eb_a5b3_3af9d3e7afd5level0_row5\" class=\"row_heading level0 row5\" >5</th>\n",
       "                        <td id=\"T_dd463e90_da36_11eb_a5b3_3af9d3e7afd5row5_col0\" class=\"data row5 col0\" >Ordinal Features</td>\n",
       "                        <td id=\"T_dd463e90_da36_11eb_a5b3_3af9d3e7afd5row5_col1\" class=\"data row5 col1\" >False</td>\n",
       "            </tr>\n",
       "            <tr>\n",
       "                        <th id=\"T_dd463e90_da36_11eb_a5b3_3af9d3e7afd5level0_row6\" class=\"row_heading level0 row6\" >6</th>\n",
       "                        <td id=\"T_dd463e90_da36_11eb_a5b3_3af9d3e7afd5row6_col0\" class=\"data row6 col0\" >High Cardinality Features</td>\n",
       "                        <td id=\"T_dd463e90_da36_11eb_a5b3_3af9d3e7afd5row6_col1\" class=\"data row6 col1\" >False</td>\n",
       "            </tr>\n",
       "            <tr>\n",
       "                        <th id=\"T_dd463e90_da36_11eb_a5b3_3af9d3e7afd5level0_row7\" class=\"row_heading level0 row7\" >7</th>\n",
       "                        <td id=\"T_dd463e90_da36_11eb_a5b3_3af9d3e7afd5row7_col0\" class=\"data row7 col0\" >High Cardinality Method</td>\n",
       "                        <td id=\"T_dd463e90_da36_11eb_a5b3_3af9d3e7afd5row7_col1\" class=\"data row7 col1\" >None</td>\n",
       "            </tr>\n",
       "            <tr>\n",
       "                        <th id=\"T_dd463e90_da36_11eb_a5b3_3af9d3e7afd5level0_row8\" class=\"row_heading level0 row8\" >8</th>\n",
       "                        <td id=\"T_dd463e90_da36_11eb_a5b3_3af9d3e7afd5row8_col0\" class=\"data row8 col0\" >Transformed Data</td>\n",
       "                        <td id=\"T_dd463e90_da36_11eb_a5b3_3af9d3e7afd5row8_col1\" class=\"data row8 col1\" >(1260035, 48)</td>\n",
       "            </tr>\n",
       "            <tr>\n",
       "                        <th id=\"T_dd463e90_da36_11eb_a5b3_3af9d3e7afd5level0_row9\" class=\"row_heading level0 row9\" >9</th>\n",
       "                        <td id=\"T_dd463e90_da36_11eb_a5b3_3af9d3e7afd5row9_col0\" class=\"data row9 col0\" >CPU Jobs</td>\n",
       "                        <td id=\"T_dd463e90_da36_11eb_a5b3_3af9d3e7afd5row9_col1\" class=\"data row9 col1\" >-1</td>\n",
       "            </tr>\n",
       "            <tr>\n",
       "                        <th id=\"T_dd463e90_da36_11eb_a5b3_3af9d3e7afd5level0_row10\" class=\"row_heading level0 row10\" >10</th>\n",
       "                        <td id=\"T_dd463e90_da36_11eb_a5b3_3af9d3e7afd5row10_col0\" class=\"data row10 col0\" >Use GPU</td>\n",
       "                        <td id=\"T_dd463e90_da36_11eb_a5b3_3af9d3e7afd5row10_col1\" class=\"data row10 col1\" >False</td>\n",
       "            </tr>\n",
       "            <tr>\n",
       "                        <th id=\"T_dd463e90_da36_11eb_a5b3_3af9d3e7afd5level0_row11\" class=\"row_heading level0 row11\" >11</th>\n",
       "                        <td id=\"T_dd463e90_da36_11eb_a5b3_3af9d3e7afd5row11_col0\" class=\"data row11 col0\" >Log Experiment</td>\n",
       "                        <td id=\"T_dd463e90_da36_11eb_a5b3_3af9d3e7afd5row11_col1\" class=\"data row11 col1\" >False</td>\n",
       "            </tr>\n",
       "            <tr>\n",
       "                        <th id=\"T_dd463e90_da36_11eb_a5b3_3af9d3e7afd5level0_row12\" class=\"row_heading level0 row12\" >12</th>\n",
       "                        <td id=\"T_dd463e90_da36_11eb_a5b3_3af9d3e7afd5row12_col0\" class=\"data row12 col0\" >Experiment Name</td>\n",
       "                        <td id=\"T_dd463e90_da36_11eb_a5b3_3af9d3e7afd5row12_col1\" class=\"data row12 col1\" >anomaly-default-name</td>\n",
       "            </tr>\n",
       "            <tr>\n",
       "                        <th id=\"T_dd463e90_da36_11eb_a5b3_3af9d3e7afd5level0_row13\" class=\"row_heading level0 row13\" >13</th>\n",
       "                        <td id=\"T_dd463e90_da36_11eb_a5b3_3af9d3e7afd5row13_col0\" class=\"data row13 col0\" >USI</td>\n",
       "                        <td id=\"T_dd463e90_da36_11eb_a5b3_3af9d3e7afd5row13_col1\" class=\"data row13 col1\" >981b</td>\n",
       "            </tr>\n",
       "            <tr>\n",
       "                        <th id=\"T_dd463e90_da36_11eb_a5b3_3af9d3e7afd5level0_row14\" class=\"row_heading level0 row14\" >14</th>\n",
       "                        <td id=\"T_dd463e90_da36_11eb_a5b3_3af9d3e7afd5row14_col0\" class=\"data row14 col0\" >Imputation Type</td>\n",
       "                        <td id=\"T_dd463e90_da36_11eb_a5b3_3af9d3e7afd5row14_col1\" class=\"data row14 col1\" >simple</td>\n",
       "            </tr>\n",
       "            <tr>\n",
       "                        <th id=\"T_dd463e90_da36_11eb_a5b3_3af9d3e7afd5level0_row15\" class=\"row_heading level0 row15\" >15</th>\n",
       "                        <td id=\"T_dd463e90_da36_11eb_a5b3_3af9d3e7afd5row15_col0\" class=\"data row15 col0\" >Iterative Imputation Iteration</td>\n",
       "                        <td id=\"T_dd463e90_da36_11eb_a5b3_3af9d3e7afd5row15_col1\" class=\"data row15 col1\" >None</td>\n",
       "            </tr>\n",
       "            <tr>\n",
       "                        <th id=\"T_dd463e90_da36_11eb_a5b3_3af9d3e7afd5level0_row16\" class=\"row_heading level0 row16\" >16</th>\n",
       "                        <td id=\"T_dd463e90_da36_11eb_a5b3_3af9d3e7afd5row16_col0\" class=\"data row16 col0\" >Numeric Imputer</td>\n",
       "                        <td id=\"T_dd463e90_da36_11eb_a5b3_3af9d3e7afd5row16_col1\" class=\"data row16 col1\" >mean</td>\n",
       "            </tr>\n",
       "            <tr>\n",
       "                        <th id=\"T_dd463e90_da36_11eb_a5b3_3af9d3e7afd5level0_row17\" class=\"row_heading level0 row17\" >17</th>\n",
       "                        <td id=\"T_dd463e90_da36_11eb_a5b3_3af9d3e7afd5row17_col0\" class=\"data row17 col0\" >Iterative Imputation Numeric Model</td>\n",
       "                        <td id=\"T_dd463e90_da36_11eb_a5b3_3af9d3e7afd5row17_col1\" class=\"data row17 col1\" >None</td>\n",
       "            </tr>\n",
       "            <tr>\n",
       "                        <th id=\"T_dd463e90_da36_11eb_a5b3_3af9d3e7afd5level0_row18\" class=\"row_heading level0 row18\" >18</th>\n",
       "                        <td id=\"T_dd463e90_da36_11eb_a5b3_3af9d3e7afd5row18_col0\" class=\"data row18 col0\" >Categorical Imputer</td>\n",
       "                        <td id=\"T_dd463e90_da36_11eb_a5b3_3af9d3e7afd5row18_col1\" class=\"data row18 col1\" >mode</td>\n",
       "            </tr>\n",
       "            <tr>\n",
       "                        <th id=\"T_dd463e90_da36_11eb_a5b3_3af9d3e7afd5level0_row19\" class=\"row_heading level0 row19\" >19</th>\n",
       "                        <td id=\"T_dd463e90_da36_11eb_a5b3_3af9d3e7afd5row19_col0\" class=\"data row19 col0\" >Iterative Imputation Categorical Model</td>\n",
       "                        <td id=\"T_dd463e90_da36_11eb_a5b3_3af9d3e7afd5row19_col1\" class=\"data row19 col1\" >None</td>\n",
       "            </tr>\n",
       "            <tr>\n",
       "                        <th id=\"T_dd463e90_da36_11eb_a5b3_3af9d3e7afd5level0_row20\" class=\"row_heading level0 row20\" >20</th>\n",
       "                        <td id=\"T_dd463e90_da36_11eb_a5b3_3af9d3e7afd5row20_col0\" class=\"data row20 col0\" >Unknown Categoricals Handling</td>\n",
       "                        <td id=\"T_dd463e90_da36_11eb_a5b3_3af9d3e7afd5row20_col1\" class=\"data row20 col1\" >least_frequent</td>\n",
       "            </tr>\n",
       "            <tr>\n",
       "                        <th id=\"T_dd463e90_da36_11eb_a5b3_3af9d3e7afd5level0_row21\" class=\"row_heading level0 row21\" >21</th>\n",
       "                        <td id=\"T_dd463e90_da36_11eb_a5b3_3af9d3e7afd5row21_col0\" class=\"data row21 col0\" >Normalize</td>\n",
       "                        <td id=\"T_dd463e90_da36_11eb_a5b3_3af9d3e7afd5row21_col1\" class=\"data row21 col1\" >False</td>\n",
       "            </tr>\n",
       "            <tr>\n",
       "                        <th id=\"T_dd463e90_da36_11eb_a5b3_3af9d3e7afd5level0_row22\" class=\"row_heading level0 row22\" >22</th>\n",
       "                        <td id=\"T_dd463e90_da36_11eb_a5b3_3af9d3e7afd5row22_col0\" class=\"data row22 col0\" >Normalize Method</td>\n",
       "                        <td id=\"T_dd463e90_da36_11eb_a5b3_3af9d3e7afd5row22_col1\" class=\"data row22 col1\" >None</td>\n",
       "            </tr>\n",
       "            <tr>\n",
       "                        <th id=\"T_dd463e90_da36_11eb_a5b3_3af9d3e7afd5level0_row23\" class=\"row_heading level0 row23\" >23</th>\n",
       "                        <td id=\"T_dd463e90_da36_11eb_a5b3_3af9d3e7afd5row23_col0\" class=\"data row23 col0\" >Transformation</td>\n",
       "                        <td id=\"T_dd463e90_da36_11eb_a5b3_3af9d3e7afd5row23_col1\" class=\"data row23 col1\" >False</td>\n",
       "            </tr>\n",
       "            <tr>\n",
       "                        <th id=\"T_dd463e90_da36_11eb_a5b3_3af9d3e7afd5level0_row24\" class=\"row_heading level0 row24\" >24</th>\n",
       "                        <td id=\"T_dd463e90_da36_11eb_a5b3_3af9d3e7afd5row24_col0\" class=\"data row24 col0\" >Transformation Method</td>\n",
       "                        <td id=\"T_dd463e90_da36_11eb_a5b3_3af9d3e7afd5row24_col1\" class=\"data row24 col1\" >None</td>\n",
       "            </tr>\n",
       "            <tr>\n",
       "                        <th id=\"T_dd463e90_da36_11eb_a5b3_3af9d3e7afd5level0_row25\" class=\"row_heading level0 row25\" >25</th>\n",
       "                        <td id=\"T_dd463e90_da36_11eb_a5b3_3af9d3e7afd5row25_col0\" class=\"data row25 col0\" >PCA</td>\n",
       "                        <td id=\"T_dd463e90_da36_11eb_a5b3_3af9d3e7afd5row25_col1\" class=\"data row25 col1\" >False</td>\n",
       "            </tr>\n",
       "            <tr>\n",
       "                        <th id=\"T_dd463e90_da36_11eb_a5b3_3af9d3e7afd5level0_row26\" class=\"row_heading level0 row26\" >26</th>\n",
       "                        <td id=\"T_dd463e90_da36_11eb_a5b3_3af9d3e7afd5row26_col0\" class=\"data row26 col0\" >PCA Method</td>\n",
       "                        <td id=\"T_dd463e90_da36_11eb_a5b3_3af9d3e7afd5row26_col1\" class=\"data row26 col1\" >None</td>\n",
       "            </tr>\n",
       "            <tr>\n",
       "                        <th id=\"T_dd463e90_da36_11eb_a5b3_3af9d3e7afd5level0_row27\" class=\"row_heading level0 row27\" >27</th>\n",
       "                        <td id=\"T_dd463e90_da36_11eb_a5b3_3af9d3e7afd5row27_col0\" class=\"data row27 col0\" >PCA Components</td>\n",
       "                        <td id=\"T_dd463e90_da36_11eb_a5b3_3af9d3e7afd5row27_col1\" class=\"data row27 col1\" >None</td>\n",
       "            </tr>\n",
       "            <tr>\n",
       "                        <th id=\"T_dd463e90_da36_11eb_a5b3_3af9d3e7afd5level0_row28\" class=\"row_heading level0 row28\" >28</th>\n",
       "                        <td id=\"T_dd463e90_da36_11eb_a5b3_3af9d3e7afd5row28_col0\" class=\"data row28 col0\" >Ignore Low Variance</td>\n",
       "                        <td id=\"T_dd463e90_da36_11eb_a5b3_3af9d3e7afd5row28_col1\" class=\"data row28 col1\" >False</td>\n",
       "            </tr>\n",
       "            <tr>\n",
       "                        <th id=\"T_dd463e90_da36_11eb_a5b3_3af9d3e7afd5level0_row29\" class=\"row_heading level0 row29\" >29</th>\n",
       "                        <td id=\"T_dd463e90_da36_11eb_a5b3_3af9d3e7afd5row29_col0\" class=\"data row29 col0\" >Combine Rare Levels</td>\n",
       "                        <td id=\"T_dd463e90_da36_11eb_a5b3_3af9d3e7afd5row29_col1\" class=\"data row29 col1\" >False</td>\n",
       "            </tr>\n",
       "            <tr>\n",
       "                        <th id=\"T_dd463e90_da36_11eb_a5b3_3af9d3e7afd5level0_row30\" class=\"row_heading level0 row30\" >30</th>\n",
       "                        <td id=\"T_dd463e90_da36_11eb_a5b3_3af9d3e7afd5row30_col0\" class=\"data row30 col0\" >Rare Level Threshold</td>\n",
       "                        <td id=\"T_dd463e90_da36_11eb_a5b3_3af9d3e7afd5row30_col1\" class=\"data row30 col1\" >None</td>\n",
       "            </tr>\n",
       "            <tr>\n",
       "                        <th id=\"T_dd463e90_da36_11eb_a5b3_3af9d3e7afd5level0_row31\" class=\"row_heading level0 row31\" >31</th>\n",
       "                        <td id=\"T_dd463e90_da36_11eb_a5b3_3af9d3e7afd5row31_col0\" class=\"data row31 col0\" >Numeric Binning</td>\n",
       "                        <td id=\"T_dd463e90_da36_11eb_a5b3_3af9d3e7afd5row31_col1\" class=\"data row31 col1\" >False</td>\n",
       "            </tr>\n",
       "            <tr>\n",
       "                        <th id=\"T_dd463e90_da36_11eb_a5b3_3af9d3e7afd5level0_row32\" class=\"row_heading level0 row32\" >32</th>\n",
       "                        <td id=\"T_dd463e90_da36_11eb_a5b3_3af9d3e7afd5row32_col0\" class=\"data row32 col0\" >Remove Outliers</td>\n",
       "                        <td id=\"T_dd463e90_da36_11eb_a5b3_3af9d3e7afd5row32_col1\" class=\"data row32 col1\" >False</td>\n",
       "            </tr>\n",
       "            <tr>\n",
       "                        <th id=\"T_dd463e90_da36_11eb_a5b3_3af9d3e7afd5level0_row33\" class=\"row_heading level0 row33\" >33</th>\n",
       "                        <td id=\"T_dd463e90_da36_11eb_a5b3_3af9d3e7afd5row33_col0\" class=\"data row33 col0\" >Outliers Threshold</td>\n",
       "                        <td id=\"T_dd463e90_da36_11eb_a5b3_3af9d3e7afd5row33_col1\" class=\"data row33 col1\" >None</td>\n",
       "            </tr>\n",
       "            <tr>\n",
       "                        <th id=\"T_dd463e90_da36_11eb_a5b3_3af9d3e7afd5level0_row34\" class=\"row_heading level0 row34\" >34</th>\n",
       "                        <td id=\"T_dd463e90_da36_11eb_a5b3_3af9d3e7afd5row34_col0\" class=\"data row34 col0\" >Remove Multicollinearity</td>\n",
       "                        <td id=\"T_dd463e90_da36_11eb_a5b3_3af9d3e7afd5row34_col1\" class=\"data row34 col1\" >False</td>\n",
       "            </tr>\n",
       "            <tr>\n",
       "                        <th id=\"T_dd463e90_da36_11eb_a5b3_3af9d3e7afd5level0_row35\" class=\"row_heading level0 row35\" >35</th>\n",
       "                        <td id=\"T_dd463e90_da36_11eb_a5b3_3af9d3e7afd5row35_col0\" class=\"data row35 col0\" >Multicollinearity Threshold</td>\n",
       "                        <td id=\"T_dd463e90_da36_11eb_a5b3_3af9d3e7afd5row35_col1\" class=\"data row35 col1\" >None</td>\n",
       "            </tr>\n",
       "            <tr>\n",
       "                        <th id=\"T_dd463e90_da36_11eb_a5b3_3af9d3e7afd5level0_row36\" class=\"row_heading level0 row36\" >36</th>\n",
       "                        <td id=\"T_dd463e90_da36_11eb_a5b3_3af9d3e7afd5row36_col0\" class=\"data row36 col0\" >Clustering</td>\n",
       "                        <td id=\"T_dd463e90_da36_11eb_a5b3_3af9d3e7afd5row36_col1\" class=\"data row36 col1\" >False</td>\n",
       "            </tr>\n",
       "            <tr>\n",
       "                        <th id=\"T_dd463e90_da36_11eb_a5b3_3af9d3e7afd5level0_row37\" class=\"row_heading level0 row37\" >37</th>\n",
       "                        <td id=\"T_dd463e90_da36_11eb_a5b3_3af9d3e7afd5row37_col0\" class=\"data row37 col0\" >Clustering Iteration</td>\n",
       "                        <td id=\"T_dd463e90_da36_11eb_a5b3_3af9d3e7afd5row37_col1\" class=\"data row37 col1\" >None</td>\n",
       "            </tr>\n",
       "            <tr>\n",
       "                        <th id=\"T_dd463e90_da36_11eb_a5b3_3af9d3e7afd5level0_row38\" class=\"row_heading level0 row38\" >38</th>\n",
       "                        <td id=\"T_dd463e90_da36_11eb_a5b3_3af9d3e7afd5row38_col0\" class=\"data row38 col0\" >Polynomial Features</td>\n",
       "                        <td id=\"T_dd463e90_da36_11eb_a5b3_3af9d3e7afd5row38_col1\" class=\"data row38 col1\" >False</td>\n",
       "            </tr>\n",
       "            <tr>\n",
       "                        <th id=\"T_dd463e90_da36_11eb_a5b3_3af9d3e7afd5level0_row39\" class=\"row_heading level0 row39\" >39</th>\n",
       "                        <td id=\"T_dd463e90_da36_11eb_a5b3_3af9d3e7afd5row39_col0\" class=\"data row39 col0\" >Polynomial Degree</td>\n",
       "                        <td id=\"T_dd463e90_da36_11eb_a5b3_3af9d3e7afd5row39_col1\" class=\"data row39 col1\" >None</td>\n",
       "            </tr>\n",
       "            <tr>\n",
       "                        <th id=\"T_dd463e90_da36_11eb_a5b3_3af9d3e7afd5level0_row40\" class=\"row_heading level0 row40\" >40</th>\n",
       "                        <td id=\"T_dd463e90_da36_11eb_a5b3_3af9d3e7afd5row40_col0\" class=\"data row40 col0\" >Trignometry Features</td>\n",
       "                        <td id=\"T_dd463e90_da36_11eb_a5b3_3af9d3e7afd5row40_col1\" class=\"data row40 col1\" >False</td>\n",
       "            </tr>\n",
       "            <tr>\n",
       "                        <th id=\"T_dd463e90_da36_11eb_a5b3_3af9d3e7afd5level0_row41\" class=\"row_heading level0 row41\" >41</th>\n",
       "                        <td id=\"T_dd463e90_da36_11eb_a5b3_3af9d3e7afd5row41_col0\" class=\"data row41 col0\" >Polynomial Threshold</td>\n",
       "                        <td id=\"T_dd463e90_da36_11eb_a5b3_3af9d3e7afd5row41_col1\" class=\"data row41 col1\" >None</td>\n",
       "            </tr>\n",
       "            <tr>\n",
       "                        <th id=\"T_dd463e90_da36_11eb_a5b3_3af9d3e7afd5level0_row42\" class=\"row_heading level0 row42\" >42</th>\n",
       "                        <td id=\"T_dd463e90_da36_11eb_a5b3_3af9d3e7afd5row42_col0\" class=\"data row42 col0\" >Group Features</td>\n",
       "                        <td id=\"T_dd463e90_da36_11eb_a5b3_3af9d3e7afd5row42_col1\" class=\"data row42 col1\" >False</td>\n",
       "            </tr>\n",
       "            <tr>\n",
       "                        <th id=\"T_dd463e90_da36_11eb_a5b3_3af9d3e7afd5level0_row43\" class=\"row_heading level0 row43\" >43</th>\n",
       "                        <td id=\"T_dd463e90_da36_11eb_a5b3_3af9d3e7afd5row43_col0\" class=\"data row43 col0\" >Feature Selection</td>\n",
       "                        <td id=\"T_dd463e90_da36_11eb_a5b3_3af9d3e7afd5row43_col1\" class=\"data row43 col1\" >False</td>\n",
       "            </tr>\n",
       "            <tr>\n",
       "                        <th id=\"T_dd463e90_da36_11eb_a5b3_3af9d3e7afd5level0_row44\" class=\"row_heading level0 row44\" >44</th>\n",
       "                        <td id=\"T_dd463e90_da36_11eb_a5b3_3af9d3e7afd5row44_col0\" class=\"data row44 col0\" >Feature Selection Method</td>\n",
       "                        <td id=\"T_dd463e90_da36_11eb_a5b3_3af9d3e7afd5row44_col1\" class=\"data row44 col1\" >classic</td>\n",
       "            </tr>\n",
       "            <tr>\n",
       "                        <th id=\"T_dd463e90_da36_11eb_a5b3_3af9d3e7afd5level0_row45\" class=\"row_heading level0 row45\" >45</th>\n",
       "                        <td id=\"T_dd463e90_da36_11eb_a5b3_3af9d3e7afd5row45_col0\" class=\"data row45 col0\" >Features Selection Threshold</td>\n",
       "                        <td id=\"T_dd463e90_da36_11eb_a5b3_3af9d3e7afd5row45_col1\" class=\"data row45 col1\" >None</td>\n",
       "            </tr>\n",
       "            <tr>\n",
       "                        <th id=\"T_dd463e90_da36_11eb_a5b3_3af9d3e7afd5level0_row46\" class=\"row_heading level0 row46\" >46</th>\n",
       "                        <td id=\"T_dd463e90_da36_11eb_a5b3_3af9d3e7afd5row46_col0\" class=\"data row46 col0\" >Feature Interaction</td>\n",
       "                        <td id=\"T_dd463e90_da36_11eb_a5b3_3af9d3e7afd5row46_col1\" class=\"data row46 col1\" >False</td>\n",
       "            </tr>\n",
       "            <tr>\n",
       "                        <th id=\"T_dd463e90_da36_11eb_a5b3_3af9d3e7afd5level0_row47\" class=\"row_heading level0 row47\" >47</th>\n",
       "                        <td id=\"T_dd463e90_da36_11eb_a5b3_3af9d3e7afd5row47_col0\" class=\"data row47 col0\" >Feature Ratio</td>\n",
       "                        <td id=\"T_dd463e90_da36_11eb_a5b3_3af9d3e7afd5row47_col1\" class=\"data row47 col1\" >False</td>\n",
       "            </tr>\n",
       "            <tr>\n",
       "                        <th id=\"T_dd463e90_da36_11eb_a5b3_3af9d3e7afd5level0_row48\" class=\"row_heading level0 row48\" >48</th>\n",
       "                        <td id=\"T_dd463e90_da36_11eb_a5b3_3af9d3e7afd5row48_col0\" class=\"data row48 col0\" >Interaction Threshold</td>\n",
       "                        <td id=\"T_dd463e90_da36_11eb_a5b3_3af9d3e7afd5row48_col1\" class=\"data row48 col1\" >None</td>\n",
       "            </tr>\n",
       "    </tbody></table>"
      ],
      "text/plain": [
       "<pandas.io.formats.style.Styler at 0x7fbbefcc2d00>"
      ]
     },
     "metadata": {},
     "output_type": "display_data"
    }
   ],
   "source": [
    "from pycaret.anomaly import *\n",
    "exp_name = setup(data = train_normalized)"
   ]
  },
  {
   "cell_type": "markdown",
   "metadata": {},
   "source": [
    "### Cluster based model"
   ]
  },
  {
   "cell_type": "code",
   "execution_count": 30,
   "metadata": {},
   "outputs": [],
   "source": [
    "cluster_based_model = create_model('cluster')"
   ]
  },
  {
   "cell_type": "code",
   "execution_count": 31,
   "metadata": {},
   "outputs": [
    {
     "data": {
      "text/plain": [
       "62829"
      ]
     },
     "execution_count": 31,
     "metadata": {},
     "output_type": "execute_result"
    }
   ],
   "source": [
    "cluster_results = assign_model(cluster_based_model)\n",
    "cluster_results.Anomaly.sum()"
   ]
  },
  {
   "cell_type": "code",
   "execution_count": 32,
   "metadata": {},
   "outputs": [
    {
     "name": "stdout",
     "output_type": "stream",
     "text": [
      "Precision : % 0.8341363526860996\n"
     ]
    }
   ],
   "source": [
    "evaluate(cluster_results.Anomaly)"
   ]
  },
  {
   "cell_type": "markdown",
   "metadata": {},
   "source": [
    "### PCA based model"
   ]
  },
  {
   "cell_type": "code",
   "execution_count": 33,
   "metadata": {},
   "outputs": [],
   "source": [
    "pca_based_model = create_model('pca')"
   ]
  },
  {
   "cell_type": "code",
   "execution_count": 34,
   "metadata": {},
   "outputs": [
    {
     "data": {
      "text/plain": [
       "63001"
      ]
     },
     "execution_count": 34,
     "metadata": {},
     "output_type": "execute_result"
    }
   ],
   "source": [
    "pca_results = assign_model(pca_based_model)\n",
    "pca_results.Anomaly.sum()"
   ]
  },
  {
   "cell_type": "code",
   "execution_count": 35,
   "metadata": {},
   "outputs": [
    {
     "name": "stdout",
     "output_type": "stream",
     "text": [
      "Precision : % 57.57498193206456\n"
     ]
    }
   ],
   "source": [
    "evaluate(pca_results.Anomaly)"
   ]
  },
  {
   "cell_type": "markdown",
   "metadata": {},
   "source": [
    "### ROC Curve"
   ]
  },
  {
   "cell_type": "code",
   "execution_count": 41,
   "metadata": {},
   "outputs": [],
   "source": [
    "from sklearn.metrics import roc_curve\n",
    "from matplotlib import pyplot"
   ]
  },
  {
   "cell_type": "code",
   "execution_count": 87,
   "metadata": {},
   "outputs": [
    {
     "name": "stdout",
     "output_type": "stream",
     "text": [
      "Best Threshold=957370922687284224.000000, G-Mean=0.856\n"
     ]
    },
    {
     "data": {
      "image/png": "[encoded data removed]",
      "text/plain": [
       "<Figure size 432x288 with 1 Axes>"
      ]
     },
     "metadata": {
      "needs_background": "light"
     },
     "output_type": "display_data"
    }
   ],
   "source": [
    "fpr, tpr, thresholds = roc_curve(get_approximate_labels(train), pca_results.Anomaly_Score)\n",
    "\n",
    "gmeans = np.sqrt(tpr * (1-fpr))\n",
    "ix = np.argmax(gmeans)\n",
    "print('Best Threshold=%f, G-Mean=%.3f' % (thresholds[ix], gmeans[ix]))\n",
    "\n",
    "plt.plot([0,1], [0,1], linestyle='--', label='No Skill')\n",
    "plt.plot(fpr, tpr, marker='.', label='PCA Based Model')\n",
    "plt.scatter(fpr[ix], tpr[ix], marker='o', color='black', label='Best')\n",
    "\n",
    "plt.xlabel('FPR')\n",
    "plt.ylabel('TPR')\n",
    "\n",
    "plt.legend()\n",
    "plt.show()"
   ]
  },
  {
   "cell_type": "markdown",
   "metadata": {},
   "source": [
    "### Precision Recall Curve"
   ]
  },
  {
   "cell_type": "code",
   "execution_count": 84,
   "metadata": {},
   "outputs": [
    {
     "name": "stdout",
     "output_type": "stream",
     "text": [
      "Best Threshold=1382801314979517184.000000, F-Score=0.597\n",
      "Recall=0.575720, Precision=0.596637\n"
     ]
    },
    {
     "data": {
      "image/png": "[encoded data removed]",
      "text/plain": [
       "<Figure size 432x288 with 1 Axes>"
      ]
     },
     "metadata": {
      "needs_background": "light"
     },
     "output_type": "display_data"
    }
   ],
   "source": [
    "from sklearn.metrics import precision_recall_curve\n",
    "\n",
    "testy = get_approximate_labels(train)\n",
    "precision, recall, thresholds = precision_recall_curve(testy, pca_results.Anomaly_Score)\n",
    "\n",
    "fscore = (2 * precision * recall) / (precision + recall)\n",
    "fscore = np.nan_to_num(fscore)\n",
    "ix = np.argmax(fscore)\n",
    "print('Best Threshold=%f, F-Score=%.3f' % (thresholds[ix], fscore[ix]))\n",
    "print('Recall=%f, Precision=%f' % (recall[ix], fscore[ix]))\n",
    "\n",
    "no_skill = len(testy[testy==1]) / len(testy)\n",
    "plt.plot([0,1], [no_skill,no_skill], linestyle='--', label='No Skill')\n",
    "plt.plot(recall, precision, marker='.', label='PCA Based Model')\n",
    "plt.scatter(recall[ix], precision[ix], marker='o', color='black', label='Best')\n",
    "\n",
    "plt.xlabel('Recall')\n",
    "plt.ylabel('Precision')\n",
    "\n",
    "plt.legend()\n",
    "plt.show()"
   ]
  },
  {
   "cell_type": "code",
   "execution_count": null,
   "metadata": {},
   "outputs": [],
   "source": []
  }
 ],
 "metadata": {
  "colab": {
   "collapsed_sections": [
    "Nvy9zukKviqg",
    "daEJRwzUvWt4"
   ],
   "name": "RC-Project.ipynb",
   "provenance": []
  },
  "kernelspec": {
   "display_name": "Python 3",
   "language": "python",
   "name": "python3"
  },
  "language_info": {
   "codemirror_mode": {
    "name": "ipython",
    "version": 3
   },
   "file_extension": ".py",
   "mimetype": "text/x-python",
   "name": "python",
   "nbconvert_exporter": "python",
   "pygments_lexer": "ipython3",
   "version": "3.8.3"
  }
 },
 "nbformat": 4,
 "nbformat_minor": 1
}
